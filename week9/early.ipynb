{
 "cells": [
  {
   "cell_type": "markdown",
   "metadata": {},
   "source": [
    "Implementing a Simple VAE using PyTorch\n",
    "Import the modules neccessary to run"
   ]
  },
  {
   "cell_type": "code",
   "execution_count": 1,
   "metadata": {},
   "outputs": [],
   "source": [
    "from __future__ import print_function\n",
    "import argparse\n",
    "import torch\n",
    "import torch.utils.data\n",
    "from torch import nn, optim\n",
    "from torch.nn import functional as F\n",
    "from torchvision import datasets, transforms\n",
    "from torchvision.utils import save_image\n",
    "import numpy as np\n",
    "import matplotlib.pyplot as plt \n",
    "import random\n",
    "from ipdb import set_trace as st\n",
    "from tqdm import tqdm"
   ]
  },
  {
   "cell_type": "code",
   "execution_count": 2,
   "metadata": {},
   "outputs": [],
   "source": [
    "from sklearn.neighbors import KernelDensity\n",
    "from scipy.stats import gaussian_kde\n"
   ]
  },
  {
   "cell_type": "code",
   "execution_count": 3,
   "metadata": {},
   "outputs": [],
   "source": [
    "import sys\n",
    "sys.argv=['']\n",
    "del sys"
   ]
  },
  {
   "cell_type": "markdown",
   "metadata": {},
   "source": [
    "we will define the argument parser to parse the command line arguments. We will provide the number of epochs to train for as the argument while executing the file from the command line. The following block of code constructs the argument parser."
   ]
  },
  {
   "cell_type": "code",
   "execution_count": 4,
   "metadata": {},
   "outputs": [],
   "source": [
    "# construct the argument parser and parser the arguments\n",
    "parser = argparse.ArgumentParser(description='VAE Example')\n",
    "parser.add_argument('--batch-size', type=int, default=2048, metavar='N',\n",
    "                    help='input batch size for training (default: 128)')\n",
    "parser.add_argument('--epochs', type=int, default=100, metavar='N',\n",
    "                    help='number of epochs to train (default: 10)')\n",
    "parser.add_argument('--seed', type=int, default=1, metavar='S',\n",
    "                    help='random seed (default: 1)')\n",
    "parser.add_argument('--log-interval', type=int, default=10, metavar='N',\n",
    "                    help='how many batches to wait before logging training status')\n",
    "args = parser.parse_args()\n",
    "\n",
    "torch.manual_seed(args.seed)\n",
    "\n",
    "# we use CPU for computation\n",
    "device = torch.device(\"cpu\")\n",
    "\n",
    "#K = 1024\n",
    "K = 500"
   ]
  },
  {
   "cell_type": "markdown",
   "metadata": {},
   "source": [
    "Generate the standard toy \"8-gaussians\" dataset,"
   ]
  },
  {
   "cell_type": "code",
   "execution_count": 5,
   "metadata": {},
   "outputs": [],
   "source": [
    "def gen_batch(BATCH_SIZE):\n",
    "    theta = (np.pi/4) * torch.randint(0, 8, (BATCH_SIZE,)).float().to(device)\n",
    "    centers = torch.stack((torch.cos(theta), torch.sin(theta)), dim = -1)\n",
    "    noise = torch.randn_like(centers) * 0.1\n",
    "\n",
    "    return centers + noise\n",
    "\n",
    "def data_gen(BATCH_SIZE):\n",
    "    #8 gaussians\n",
    "    while 1:\n",
    "        yield gen_batch(BATCH_SIZE)\n"
   ]
  },
  {
   "cell_type": "markdown",
   "metadata": {},
   "source": [
    "we have to define the train and test data loaders. We can easily do that using the DataLoader module from PyTorch"
   ]
  },
  {
   "cell_type": "code",
   "execution_count": 6,
   "metadata": {},
   "outputs": [],
   "source": [
    "test_loader = train_loader = data_gen(args.batch_size)"
   ]
  },
  {
   "cell_type": "markdown",
   "metadata": {},
   "source": [
    "We will define the VAE\n",
    "First we have the __init__() function\n",
    "The VAE consists of an encoder that takes the  outputs 2 vectors of length latent_size\n",
    "The reparametrize() function \n",
    "It has two parameters mu and log_var.\n",
    "mu is the mean that is coming from encoder’s latent space encoding.\n",
    "And logvar is the log variance that is coming from the encoder’s latent space.\n",
    "first, we calculate the standard deviation (std) using the logvar.\n",
    "Then , we calculate epsilon (eps) that we will use in the sample formula. We use torch.rand_like() so that dimensions will be same as std.\n",
    "finally we calculate the sample using mu, eps, std. Then we return its value. \n",
    "Then we start forward() function\n",
    "First,  pass the input through the VAE’s encoder layers. \n",
    "Then we get mu and log_var . These two have the same value as the encoder’s last layer output.\n",
    "then, we get the latent vector z through reparameterization trick using mu and log_var.\n",
    "next we have the decoding part. We pass the latent vector z through the first decoder layer. Then we get the reconstruction of the inputs by giving that output as input to the second decoder layer.\n",
    "Finally,  return the reconstruction, mu, and logvar values."
   ]
  },
  {
   "cell_type": "code",
   "execution_count": 7,
   "metadata": {},
   "outputs": [],
   "source": [
    "class VAE(nn.Module):\n",
    "    def __init__(self):\n",
    "        super(VAE, self).__init__()\n",
    "        self.fc0 = nn.Linear(2, K)\n",
    "        self.fc1 = nn.Linear(K, K)\n",
    "        self.fc21 = nn.Linear(K, K)\n",
    "        self.fc22 = nn.Linear(K, K)\n",
    "        self.fc3 = nn.Linear(K, K)\n",
    "        self.fc4 = nn.Linear(K, K)\n",
    "        self.fc5 = nn.Linear(K, 2)\n",
    "\n",
    "    def encode(self, x):\n",
    "        h1 = F.selu(self.fc1(F.selu(self.fc0(x))))\n",
    "        return self.fc21(h1), self.fc22(h1)\n",
    "\n",
    "    def reparameterize(self, mu, logvar):\n",
    "        std = torch.exp(0.5*logvar)\n",
    "        eps = torch.randn_like(std)\n",
    "        return mu + eps*std\n",
    "    \n",
    "    def sample(self, n=2048):\n",
    "        \"\"\"\n",
    "        Generate n samples from the generative model.\n",
    "        \"\"\"\n",
    "        sample = torch.randn(n, K).to(device)\n",
    "        out = model.decode(sample)\n",
    "\n",
    "        return out.cpu().detach().numpy()\n",
    "\n",
    "\n",
    "    def decode(self, z):\n",
    "        return self.fc5(F.selu(self.fc4(F.selu(self.fc3(z)))))\n",
    "\n",
    "#    def decode(self, z):\n",
    "#        h = F.relu(self.fc3(z))\n",
    "#        mu = self.fc4(h)\n",
    "#        logvar = self.fc5(h)\n",
    "#        return mu, logvar\n",
    "\n",
    "    def forward(self, x):\n",
    "        mu, logvar = self.encode(x.view(-1, 2))\n",
    "        z = self.reparameterize(mu, logvar)\n",
    "     #   mu_x, logvar_x = self.decode(z)\n",
    "        return self.decode(z), mu, logvar\n",
    "\n"
   ]
  },
  {
   "cell_type": "markdown",
   "metadata": {},
   "source": [
    "We will start initialing the model and loading it onto the computation device. Then we will define the optimizer and the loss function.We are using the Adam optimizer for training. then adjust the learning rate based on the number of epochs and with ReduceLROnPlateau allows dynamic learning rate reducing based on some validation measurements."
   ]
  },
  {
   "cell_type": "code",
   "execution_count": 9,
   "metadata": {},
   "outputs": [],
   "source": [
    "model = VAE().to(device)\n",
    "optimizer = optim.Adam(model.parameters(), lr=1e-3)\n",
    "scheduler = optim.lr_scheduler.ReduceLROnPlateau(optimizer, verbose = True, threshold = 1E-2, eps=1e-6)"
   ]
  },
  {
   "cell_type": "markdown",
   "metadata": {},
   "source": [
    "we will write the function to calculate the total loss while training the autoencoder model.  it is going to be the addition of the KL Divergence loss and the reconstruction loss.\n",
    "First we initialize the L2 loss at line 11.\n",
    "then, we calculate the KL divergence using the mu and logvar values.\n",
    "Finally, we return the total loss"
   ]
  },
  {
   "cell_type": "code",
   "execution_count": 10,
   "metadata": {},
   "outputs": [],
   "source": [
    "# Reconstruction + KL divergence losses summed over all elements and batch\n",
    "def loss_function(recon_x, x, mu, logvar):\n",
    "    #BCE = F.binary_cross_entropy(recon_x, x.view(-1, 2), reduction='sum')\n",
    "    L2 = torch.mean((recon_x-x)**2)\n",
    "  \n",
    "    \n",
    "    # see Appendix B from VAE paper:\n",
    "    # Kingma and Welling. Auto-Encoding Variational Bayes. ICLR, 2014\n",
    "    # https://arxiv.org/abs/1312.6114\n",
    "    # 0.5 * sum(1 + log(sigma^2) - mu^2 - sigma^2)\n",
    "    KLD = -0.5 * torch.mean(1 + logvar - mu.pow(2) - logvar.exp())\n",
    "    return L2 + KLD"
   ]
  },
  {
   "cell_type": "markdown",
   "metadata": {},
   "source": [
    "We will define the training function here\n",
    "first we initialize train_loss to keep track of the batch-wise loss values.\n",
    "flattens the input data as we are going to feed it into a linear layer.\n",
    "then, we get the reconstruction, mu, and log_var.\n",
    "and calculates the reconstruction loss using the reconstructed data and the original input data.\n",
    "after that we calculate the total loss using the total_loss function.\n",
    "We calculate the batch loss . Then we backpropagate the gradients and update the parameters .\n",
    "Finally, we calculate the total loss for the epoch (train_loss) and print its value."
   ]
  },
  {
   "cell_type": "markdown",
   "metadata": {},
   "source": [
    "Apply KernelDensity Estimation on recon_batch"
   ]
  },
  {
   "cell_type": "code",
   "execution_count": 11,
   "metadata": {},
   "outputs": [],
   "source": [
    "def train(epoch):\n",
    "    model.train()\n",
    "    train_loss = 0\n",
    "   \n",
    "    for batch_idx, data in enumerate(train_loader):\n",
    "        if batch_idx > 100:\n",
    "            break #100 batches per epoch\n",
    "        data = data.to(device)\n",
    "        optimizer.zero_grad()\n",
    "        recon_batch, mu, logvar = model(data)\n",
    "        loss = loss_function(recon_batch, data, mu, logvar)\n",
    "        recon_batch = recon_batch.detach().numpy()\n",
    "       \n",
    "        loss.backward()\n",
    "        train_loss += loss.item()\n",
    "        optimizer.step()\n",
    "    train_loss /= 100\n",
    "    scheduler.step(train_loss)\n",
    "\n",
    "\n",
    "    samples_model = model.sample()\n",
    "    samples_gt = gen_batch(2048)     \n",
    "    kde_skl = KernelDensity(kernel='gaussian', bandwidth=0.2)\n",
    "    kde_skl.fit(samples_gt)\n",
    "\n",
    "    # score_samples() returns the log-likelihood of the samples\n",
    "    log_pdf = kde_skl.score_samples(samples_model)\n",
    "   # log_100.append(np.mean(log_pdf))\n",
    "\n",
    "    print (\"Epoch  average reconstruction error   :\" ,epoch ,  train_loss )\n",
    "    print (\" likelihood  :\", np.mean(log_pdf))\n",
    "   # print (\" likelihood  :\", log_100)\n",
    "    return train_loss, np.mean(log_pdf)\n"
   ]
  },
  {
   "cell_type": "code",
   "execution_count": 12,
   "metadata": {},
   "outputs": [],
   "source": [
    "#update\n",
    "def test(epoch):\n",
    "    model.eval()\n",
    "    test_loss = 0\n",
    "    with torch.no_grad():\n",
    "        for i, (data, _) in enumerate(test_loader):\n",
    "            data = data.to(device)\n",
    "            recon_batch, mu, logvar = model(data)\n",
    "            test_loss += loss_function(recon_batch, data, mu, logvar).item()\n",
    "           \n",
    "\n",
    "    test_loss /= len(test_loader.dataset)\n",
    "    print('====> Test set loss: {:.4f}'.format(test_loss))\n"
   ]
  },
  {
   "cell_type": "markdown",
   "metadata": {},
   "source": [
    "Early stopping is a form of regularization used to avoid overfitting on the training dataset. Early stopping keeps track of the validation loss, if the loss stops decreasing for several epochs in a row the training stops. The EarlyStopping class in pytorchtool.py is used to create an object to keep track of the validation loss while training a PyTorch model. It will save a checkpoint of the model each time the validation loss decrease. We set the patience argument in the EarlyStopping class to how many epochs we want to wait after the last time the validation loss improved before breaking the training loop"
   ]
  },
  {
   "cell_type": "code",
   "execution_count": 13,
   "metadata": {},
   "outputs": [],
   "source": [
    "#update\n",
    "# import EarlyStopping\n",
    "from pytorchtools import EarlyStopping"
   ]
  },
  {
   "cell_type": "code",
   "execution_count": 15,
   "metadata": {},
   "outputs": [],
   "source": [
    "#update\n",
    "def train_model(model, batch_size, patience, n_epochs):\n",
    "    \n",
    "    # to track the training loss as the model trains\n",
    "    train_losses = []\n",
    "    # to track the validation loss as the model trains\n",
    "    valid_losses = []\n",
    "    # to track the average training loss per epoch as the model trains\n",
    "    avg_train_losses = []\n",
    "    # to track the average validation loss per epoch as the model trains\n",
    "    avg_valid_losses = [] \n",
    "    \n",
    "    # initialize the early_stopping object\n",
    "    early_stopping = EarlyStopping(patience=patience, verbose=True)\n",
    "    \n",
    "    for epoch in range(1, n_epochs + 1):\n",
    "\n",
    "        ###################\n",
    "        # train the model #\n",
    "        ###################\n",
    "        model.train() # prep model for training\n",
    "        for batch, (data, target) in enumerate(train_loader, 1):\n",
    "            # clear the gradients of all optimized variables\n",
    "            optimizer.zero_grad()\n",
    "            # forward pass: compute predicted outputs by passing inputs to the model\n",
    "            recon_batch, mu, logvar = model(data)\n",
    "             # calculate the loss\n",
    "            loss = loss_function(recon_batch, data, mu, logvar)\n",
    "            # backward pass: compute gradient of the loss with respect to model parameters\n",
    "            loss.backward()\n",
    "            # perform a single optimization step (parameter update)\n",
    "            optimizer.step()\n",
    "            # record training loss\n",
    "            train_losses.append(loss.item())\n",
    "\n",
    "        ######################    \n",
    "        # validate the model #\n",
    "        ######################\n",
    "        model.eval() # prep model for evaluation\n",
    "        for data, target in valid_loader:\n",
    "            # forward pass: compute predicted outputs by passing inputs to the model\n",
    "            recon_batch, mu, logvar = model(data)\n",
    "            # calculate the loss\n",
    "            loss = loss_function(recon_batch, data, mu, logvar)\n",
    "            # record validation loss\n",
    "            valid_losses.append(loss.item())\n",
    "\n",
    "        # print training/validation statistics \n",
    "        # calculate average loss over an epoch\n",
    "        train_loss = np.average(train_losses)\n",
    "        valid_loss = np.average(valid_losses)\n",
    "        avg_train_losses.append(train_loss)\n",
    "        avg_valid_losses.append(valid_loss)\n",
    "        \n",
    "        epoch_len = len(str(n_epochs))\n",
    "        \n",
    "        print_msg = (f'[{epoch:>{epoch_len}}/{n_epochs:>{epoch_len}}] ' +\n",
    "                     f'train_loss: {train_loss:.5f} ' +\n",
    "                     f'valid_loss: {valid_loss:.5f}')\n",
    "        \n",
    "        print(print_msg)\n",
    "        \n",
    "        # clear lists to track next epoch\n",
    "        train_losses = []\n",
    "        valid_losses = []\n",
    "        \n",
    "        # early_stopping needs the validation loss to check if it has decresed, \n",
    "        # and if it has, it will make a checkpoint of the current model\n",
    "        early_stopping(valid_loss, model)\n",
    "        \n",
    "        if early_stopping.early_stop:\n",
    "            print(\"Early stopping\")\n",
    "            break\n",
    "        \n",
    "    # load the last checkpoint with the best model\n",
    "    model.load_state_dict(torch.load('checkpoint.pt'))\n",
    "\n",
    "    return  model, avg_train_losses, avg_valid_losses"
   ]
  },
  {
   "cell_type": "code",
   "execution_count": 20,
   "metadata": {},
   "outputs": [
    {
     "ename": "ValueError",
     "evalue": "too many values to unpack (expected 2)",
     "output_type": "error",
     "traceback": [
      "\u001b[1;31m---------------------------------------------------------------------------\u001b[0m",
      "\u001b[1;31mValueError\u001b[0m                                Traceback (most recent call last)",
      "\u001b[1;32m<ipython-input-20-ae0c01ff005c>\u001b[0m in \u001b[0;36m<module>\u001b[1;34m\u001b[0m\n\u001b[0;32m      9\u001b[0m \u001b[0mpatience\u001b[0m \u001b[1;33m=\u001b[0m \u001b[1;36m20\u001b[0m\u001b[1;33m\u001b[0m\u001b[1;33m\u001b[0m\u001b[0m\n\u001b[0;32m     10\u001b[0m \u001b[1;33m\u001b[0m\u001b[0m\n\u001b[1;32m---> 11\u001b[1;33m \u001b[0mmodel\u001b[0m\u001b[1;33m,\u001b[0m \u001b[0mtrain_loss\u001b[0m\u001b[1;33m,\u001b[0m \u001b[0mvalid_loss\u001b[0m \u001b[1;33m=\u001b[0m \u001b[0mtrain_model\u001b[0m\u001b[1;33m(\u001b[0m\u001b[0mmodel\u001b[0m\u001b[1;33m,\u001b[0m \u001b[0mbatch_size\u001b[0m\u001b[1;33m,\u001b[0m \u001b[0mpatience\u001b[0m\u001b[1;33m,\u001b[0m \u001b[0mn_epochs\u001b[0m\u001b[1;33m)\u001b[0m\u001b[1;33m\u001b[0m\u001b[1;33m\u001b[0m\u001b[0m\n\u001b[0m",
      "\u001b[1;32m<ipython-input-15-2adbe86eff92>\u001b[0m in \u001b[0;36mtrain_model\u001b[1;34m(model, batch_size, patience, n_epochs)\u001b[0m\n\u001b[0;32m     20\u001b[0m         \u001b[1;31m###################\u001b[0m\u001b[1;33m\u001b[0m\u001b[1;33m\u001b[0m\u001b[1;33m\u001b[0m\u001b[0m\n\u001b[0;32m     21\u001b[0m         \u001b[0mmodel\u001b[0m\u001b[1;33m.\u001b[0m\u001b[0mtrain\u001b[0m\u001b[1;33m(\u001b[0m\u001b[1;33m)\u001b[0m \u001b[1;31m# prep model for training\u001b[0m\u001b[1;33m\u001b[0m\u001b[1;33m\u001b[0m\u001b[0m\n\u001b[1;32m---> 22\u001b[1;33m         \u001b[1;32mfor\u001b[0m \u001b[0mbatch\u001b[0m\u001b[1;33m,\u001b[0m \u001b[1;33m(\u001b[0m\u001b[0mdata\u001b[0m\u001b[1;33m,\u001b[0m \u001b[0mtarget\u001b[0m\u001b[1;33m)\u001b[0m \u001b[1;32min\u001b[0m \u001b[0menumerate\u001b[0m\u001b[1;33m(\u001b[0m\u001b[0mtrain_loader\u001b[0m\u001b[1;33m,\u001b[0m \u001b[1;36m1\u001b[0m\u001b[1;33m)\u001b[0m\u001b[1;33m:\u001b[0m\u001b[1;33m\u001b[0m\u001b[1;33m\u001b[0m\u001b[0m\n\u001b[0m\u001b[0;32m     23\u001b[0m             \u001b[1;31m# clear the gradients of all optimized variables\u001b[0m\u001b[1;33m\u001b[0m\u001b[1;33m\u001b[0m\u001b[1;33m\u001b[0m\u001b[0m\n\u001b[0;32m     24\u001b[0m             \u001b[0moptimizer\u001b[0m\u001b[1;33m.\u001b[0m\u001b[0mzero_grad\u001b[0m\u001b[1;33m(\u001b[0m\u001b[1;33m)\u001b[0m\u001b[1;33m\u001b[0m\u001b[1;33m\u001b[0m\u001b[0m\n",
      "\u001b[1;31mValueError\u001b[0m: too many values to unpack (expected 2)"
     ]
    }
   ],
   "source": [
    "#update\n",
    "batch_size = 256\n",
    "n_epochs = 100\n",
    "\n",
    "#train_loader, test_loader, valid_loader = create_datasets(batch_size)\n",
    "train_loader= test_loader= valid_loader = data_gen(args.batch_size)\n",
    "\n",
    "# early stopping patience; how long to wait after last time validation loss improved.\n",
    "patience = 20\n",
    "\n",
    "model, train_loss, valid_loss = train_model(model, batch_size, patience, n_epochs)"
   ]
  },
  {
   "cell_type": "code",
   "execution_count": null,
   "metadata": {},
   "outputs": [],
   "source": []
  },
  {
   "cell_type": "markdown",
   "metadata": {},
   "source": [
    "In this section, I considered the recon_batch as input KernelDensity Estimation, and since the printed results are cluttered, for clarifying the first number is Epoch, the second number is reconstruction error, the third array is log_pdf(likelihood), and the fourth array is np.exp(log_pdf)."
   ]
  },
  {
   "cell_type": "code",
   "execution_count": null,
   "metadata": {},
   "outputs": [],
   "source": []
  },
  {
   "cell_type": "code",
   "execution_count": 57,
   "metadata": {},
   "outputs": [
    {
     "data": {
      "image/png": "[encoded data removed]",
      "text/plain": [
       "<Figure size 432x288 with 1 Axes>"
      ]
     },
     "metadata": {
      "needs_background": "light"
     },
     "output_type": "display_data"
    }
   ],
   "source": [
    "x = np.array(list(range(1, 101)))\n",
    "\n",
    "plt.title('Recunstruction Error')\n",
    "plt.xlabel('Epoch')\n",
    "plt.ylabel('Recunstruction Error')\n",
    "plt.plot(x, train50, color = \"red\", linewidth = 1.5, linestyle = \"-.\", label = \"k=50\")\n",
    "plt.plot(x, train_100, marker = '+', linestyle = '-', label = 'k=100')\n",
    "plt.plot(x, train_200, marker = '+', linestyle = '-', label = 'k=200')\n",
    "plt.plot(x, train_300, color = \"blue\", linewidth = 1.5, linestyle = \"-.\", label = \"k=300\")\n",
    "plt.plot(x, train_500,  marker = '+', linestyle = '-', label = 'k=500')\n",
    "plt.legend(loc = \"upper left\")\n",
    "plt.show()"
   ]
  },
  {
   "cell_type": "code",
   "execution_count": 72,
   "metadata": {},
   "outputs": [
    {
     "data": {
      "image/png": "[encoded data removed]",
      "text/plain": [
       "<Figure size 432x288 with 1 Axes>"
      ]
     },
     "metadata": {
      "needs_background": "light"
     },
     "output_type": "display_data"
    }
   ],
   "source": [
    "x = np.array(list(range(1, 101)))\n",
    "\n",
    "plt.title('log likelihood')\n",
    "plt.xlabel('Epoch')\n",
    "plt.ylabel('log likelihood')\n",
    "plt.plot(x, log50, color = \"red\", linewidth = 1.5, linestyle = \"-.\", label = \"k=50\")\n",
    "plt.plot(x, log_100, marker = '+', linestyle = '-', label = 'k=100')\n",
    "plt.plot(x, log_200, marker = '+', linestyle = '-', label = 'k=200')\n",
    "plt.plot(x, log_300, color = \"blue\", linewidth = 1.5, linestyle = \"-.\", label = \"k=300\")\n",
    "plt.plot(x, log_500,  marker = '+', linestyle = '-', label = 'k=500')\n",
    "plt.legend(loc = \"lower right\")\n",
    "plt.show()"
   ]
  },
  {
   "cell_type": "code",
   "execution_count": null,
   "metadata": {},
   "outputs": [],
   "source": []
  },
  {
   "cell_type": "code",
   "execution_count": null,
   "metadata": {},
   "outputs": [],
   "source": []
  },
  {
   "cell_type": "code",
   "execution_count": 27,
   "metadata": {},
   "outputs": [
    {
     "name": "stderr",
     "output_type": "stream",
     "text": [
      "\r",
      "  0%|          | 0/100 [00:00<?, ?it/s]"
     ]
    },
    {
     "name": "stdout",
     "output_type": "stream",
     "text": [
      "Starting training....\n"
     ]
    },
    {
     "name": "stderr",
     "output_type": "stream",
     "text": [
      "\r",
      "  1%|          | 1/100 [05:15<8:41:07, 315.83s/it]"
     ]
    },
    {
     "name": "stdout",
     "output_type": "stream",
     "text": [
      "Epoch  average reconstruction error   : 1 0.07799870854243636\n",
      " likelihood  : -3.959704052541335\n"
     ]
    },
    {
     "name": "stderr",
     "output_type": "stream",
     "text": [
      "\r",
      "  2%|▏         | 2/100 [10:16<8:28:28, 311.31s/it]"
     ]
    },
    {
     "name": "stdout",
     "output_type": "stream",
     "text": [
      "Epoch  average reconstruction error   : 2 0.01973266528919339\n",
      " likelihood  : -3.4257890047865116\n"
     ]
    },
    {
     "name": "stderr",
     "output_type": "stream",
     "text": [
      "\r",
      "  3%|▎         | 3/100 [15:10<8:14:48, 306.06s/it]"
     ]
    },
    {
     "name": "stdout",
     "output_type": "stream",
     "text": [
      "Epoch  average reconstruction error   : 3 0.01631158472970128\n",
      " likelihood  : -3.246862333211416\n"
     ]
    },
    {
     "name": "stderr",
     "output_type": "stream",
     "text": [
      "\r",
      "  4%|▍         | 4/100 [20:02<8:02:49, 301.76s/it]"
     ]
    },
    {
     "name": "stdout",
     "output_type": "stream",
     "text": [
      "Epoch  average reconstruction error   : 4 0.015531931342557072\n",
      " likelihood  : -3.132206247378979\n"
     ]
    },
    {
     "name": "stderr",
     "output_type": "stream",
     "text": [
      "\r",
      "  5%|▌         | 5/100 [24:58<7:55:15, 300.16s/it]"
     ]
    },
    {
     "name": "stdout",
     "output_type": "stream",
     "text": [
      "Epoch  average reconstruction error   : 5 0.015498931547626852\n",
      " likelihood  : -3.206239554764792\n"
     ]
    },
    {
     "name": "stderr",
     "output_type": "stream",
     "text": [
      "\r",
      "  6%|▌         | 6/100 [29:47<7:45:00, 296.81s/it]"
     ]
    },
    {
     "name": "stdout",
     "output_type": "stream",
     "text": [
      "Epoch  average reconstruction error   : 6 0.015065044965595006\n",
      " likelihood  : -3.225510027973675\n"
     ]
    },
    {
     "name": "stderr",
     "output_type": "stream",
     "text": [
      "\r",
      "  7%|▋         | 7/100 [34:43<7:39:36, 296.52s/it]"
     ]
    },
    {
     "name": "stdout",
     "output_type": "stream",
     "text": [
      "Epoch  average reconstruction error   : 7 0.014812371544539928\n",
      " likelihood  : -3.1367191619996317\n"
     ]
    },
    {
     "name": "stderr",
     "output_type": "stream",
     "text": [
      "\r",
      "  8%|▊         | 8/100 [39:38<7:34:06, 296.15s/it]"
     ]
    },
    {
     "name": "stdout",
     "output_type": "stream",
     "text": [
      "Epoch  average reconstruction error   : 8 0.014825930604711175\n",
      " likelihood  : -3.1840283451966442\n"
     ]
    },
    {
     "name": "stderr",
     "output_type": "stream",
     "text": [
      "\r",
      "  9%|▉         | 9/100 [44:38<7:30:41, 297.16s/it]"
     ]
    },
    {
     "name": "stdout",
     "output_type": "stream",
     "text": [
      "Epoch  average reconstruction error   : 9 0.014578322377055884\n",
      " likelihood  : -3.138174199309117\n"
     ]
    },
    {
     "name": "stderr",
     "output_type": "stream",
     "text": [
      "\r",
      " 10%|█         | 10/100 [49:30<7:23:28, 295.64s/it]"
     ]
    },
    {
     "name": "stdout",
     "output_type": "stream",
     "text": [
      "Epoch  average reconstruction error   : 10 0.014517799485474825\n",
      " likelihood  : -3.0618832575108867\n"
     ]
    },
    {
     "name": "stderr",
     "output_type": "stream",
     "text": [
      "\r",
      " 11%|█         | 11/100 [54:21<7:16:24, 294.20s/it]"
     ]
    },
    {
     "name": "stdout",
     "output_type": "stream",
     "text": [
      "Epoch  average reconstruction error   : 11 0.01430781077593565\n",
      " likelihood  : -3.1434561114775796\n"
     ]
    },
    {
     "name": "stderr",
     "output_type": "stream",
     "text": [
      "\r",
      " 12%|█▏        | 12/100 [59:20<7:13:42, 295.71s/it]"
     ]
    },
    {
     "name": "stdout",
     "output_type": "stream",
     "text": [
      "Epoch  average reconstruction error   : 12 0.014253993984311819\n",
      " likelihood  : -3.0643895011401074\n"
     ]
    },
    {
     "name": "stderr",
     "output_type": "stream",
     "text": [
      "\r",
      " 13%|█▎        | 13/100 [1:04:18<7:09:41, 296.34s/it]"
     ]
    },
    {
     "name": "stdout",
     "output_type": "stream",
     "text": [
      "Epoch  average reconstruction error   : 13 0.014134855465963483\n",
      " likelihood  : -3.007655728015009\n"
     ]
    },
    {
     "name": "stderr",
     "output_type": "stream",
     "text": [
      "\r",
      " 14%|█▍        | 14/100 [1:09:12<7:04:04, 295.86s/it]"
     ]
    },
    {
     "name": "stdout",
     "output_type": "stream",
     "text": [
      "Epoch  average reconstruction error   : 14 0.014020481891930104\n",
      " likelihood  : -3.01415813338002\n"
     ]
    },
    {
     "name": "stderr",
     "output_type": "stream",
     "text": [
      "\r",
      " 15%|█▌        | 15/100 [1:14:10<6:59:48, 296.34s/it]"
     ]
    },
    {
     "name": "stdout",
     "output_type": "stream",
     "text": [
      "Epoch  average reconstruction error   : 15 0.013915054174140096\n",
      " likelihood  : -2.9087398264925453\n"
     ]
    },
    {
     "name": "stderr",
     "output_type": "stream",
     "text": [
      "\r",
      " 16%|█▌        | 16/100 [1:19:02<6:52:56, 294.96s/it]"
     ]
    },
    {
     "name": "stdout",
     "output_type": "stream",
     "text": [
      "Epoch  average reconstruction error   : 16 0.013884138986468316\n",
      " likelihood  : -2.8444395629209267\n"
     ]
    },
    {
     "name": "stderr",
     "output_type": "stream",
     "text": [
      "\r",
      " 17%|█▋        | 17/100 [1:23:58<6:48:36, 295.38s/it]"
     ]
    },
    {
     "name": "stdout",
     "output_type": "stream",
     "text": [
      "Epoch  average reconstruction error   : 17 0.0136776003241539\n",
      " likelihood  : -2.796829065239738\n"
     ]
    },
    {
     "name": "stderr",
     "output_type": "stream",
     "text": [
      "\r",
      " 18%|█▊        | 18/100 [1:28:56<6:44:46, 296.18s/it]"
     ]
    },
    {
     "name": "stdout",
     "output_type": "stream",
     "text": [
      "Epoch  average reconstruction error   : 18 0.013562498316168785\n",
      " likelihood  : -2.681173105616483\n"
     ]
    },
    {
     "name": "stderr",
     "output_type": "stream",
     "text": [
      "\r",
      " 19%|█▉        | 19/100 [1:33:50<6:38:50, 295.44s/it]"
     ]
    },
    {
     "name": "stdout",
     "output_type": "stream",
     "text": [
      "Epoch  average reconstruction error   : 19 0.013494437402114272\n",
      " likelihood  : -2.6876313181194744\n"
     ]
    },
    {
     "name": "stderr",
     "output_type": "stream",
     "text": [
      "\r",
      " 20%|██        | 20/100 [1:38:49<6:35:27, 296.60s/it]"
     ]
    },
    {
     "name": "stdout",
     "output_type": "stream",
     "text": [
      "Epoch  average reconstruction error   : 20 0.013361084293574094\n",
      " likelihood  : -2.5853930225604653\n"
     ]
    },
    {
     "name": "stderr",
     "output_type": "stream",
     "text": [
      "\r",
      " 21%|██        | 21/100 [1:43:49<6:31:42, 297.50s/it]"
     ]
    },
    {
     "name": "stdout",
     "output_type": "stream",
     "text": [
      "Epoch  average reconstruction error   : 21 0.013316354146227241\n",
      " likelihood  : -2.513631554394485\n"
     ]
    },
    {
     "name": "stderr",
     "output_type": "stream",
     "text": [
      "\r",
      " 22%|██▏       | 22/100 [1:49:09<6:35:41, 304.38s/it]"
     ]
    },
    {
     "name": "stdout",
     "output_type": "stream",
     "text": [
      "Epoch  average reconstruction error   : 22 0.013199488660320639\n",
      " likelihood  : -2.4917053282029995\n"
     ]
    },
    {
     "name": "stderr",
     "output_type": "stream",
     "text": [
      "\r",
      " 23%|██▎       | 23/100 [1:54:19<6:32:56, 306.19s/it]"
     ]
    },
    {
     "name": "stdout",
     "output_type": "stream",
     "text": [
      "Epoch  average reconstruction error   : 23 0.01313616550527513\n",
      " likelihood  : -2.4590839044354427\n"
     ]
    },
    {
     "name": "stderr",
     "output_type": "stream",
     "text": [
      "\r",
      " 24%|██▍       | 24/100 [1:59:45<6:35:10, 311.98s/it]"
     ]
    },
    {
     "name": "stdout",
     "output_type": "stream",
     "text": [
      "Epoch  average reconstruction error   : 24 0.013126769280061125\n",
      " likelihood  : -2.365470322013018\n"
     ]
    },
    {
     "name": "stderr",
     "output_type": "stream",
     "text": [
      "\r",
      " 25%|██▌       | 25/100 [2:04:41<6:24:10, 307.34s/it]"
     ]
    },
    {
     "name": "stdout",
     "output_type": "stream",
     "text": [
      "Epoch  average reconstruction error   : 25 0.013062205258756876\n",
      " likelihood  : -2.354728587474747\n"
     ]
    },
    {
     "name": "stderr",
     "output_type": "stream",
     "text": [
      "\r",
      " 26%|██▌       | 26/100 [2:09:41<6:16:06, 304.95s/it]"
     ]
    },
    {
     "name": "stdout",
     "output_type": "stream",
     "text": [
      "Epoch  average reconstruction error   : 26 0.012975092642009259\n",
      " likelihood  : -2.3046814359563417\n"
     ]
    },
    {
     "name": "stderr",
     "output_type": "stream",
     "text": [
      "\r",
      " 27%|██▋       | 27/100 [2:14:31<6:05:47, 300.64s/it]"
     ]
    },
    {
     "name": "stdout",
     "output_type": "stream",
     "text": [
      "Epoch  average reconstruction error   : 27 0.013065021075308323\n",
      " likelihood  : -2.2767594405286373\n"
     ]
    },
    {
     "name": "stderr",
     "output_type": "stream",
     "text": [
      "\r",
      " 28%|██▊       | 28/100 [2:19:27<5:58:55, 299.10s/it]"
     ]
    },
    {
     "name": "stdout",
     "output_type": "stream",
     "text": [
      "Epoch  average reconstruction error   : 28 0.012901789303869008\n",
      " likelihood  : -2.2259959211773044\n"
     ]
    },
    {
     "name": "stderr",
     "output_type": "stream",
     "text": [
      "\r",
      " 29%|██▉       | 29/100 [2:24:27<5:54:09, 299.28s/it]"
     ]
    },
    {
     "name": "stdout",
     "output_type": "stream",
     "text": [
      "Epoch  average reconstruction error   : 29 0.01290472893975675\n",
      " likelihood  : -2.1057438676516895\n"
     ]
    },
    {
     "name": "stderr",
     "output_type": "stream",
     "text": [
      "\r",
      " 30%|███       | 30/100 [2:29:46<5:56:19, 305.42s/it]"
     ]
    },
    {
     "name": "stdout",
     "output_type": "stream",
     "text": [
      "Epoch  average reconstruction error   : 30 0.013035479793325066\n",
      " likelihood  : -2.1700646259714187\n"
     ]
    },
    {
     "name": "stderr",
     "output_type": "stream",
     "text": [
      "\r",
      " 31%|███       | 31/100 [2:41:49<8:15:04, 430.49s/it]"
     ]
    },
    {
     "name": "stdout",
     "output_type": "stream",
     "text": [
      "Epoch  average reconstruction error   : 31 0.012774287452921272\n",
      " likelihood  : -2.1831336894573425\n"
     ]
    },
    {
     "name": "stderr",
     "output_type": "stream",
     "text": [
      "\r",
      " 32%|███▏      | 32/100 [2:59:26<11:40:49, 618.38s/it]"
     ]
    },
    {
     "name": "stdout",
     "output_type": "stream",
     "text": [
      "Epoch  average reconstruction error   : 32 0.012885332321748138\n",
      " likelihood  : -2.1413198247961747\n"
     ]
    },
    {
     "name": "stderr",
     "output_type": "stream",
     "text": [
      "\r",
      " 33%|███▎      | 33/100 [3:11:30<12:06:11, 650.32s/it]"
     ]
    },
    {
     "name": "stdout",
     "output_type": "stream",
     "text": [
      "Epoch  average reconstruction error   : 33 0.01280006323941052\n",
      " likelihood  : -2.0797055283334744\n"
     ]
    },
    {
     "name": "stderr",
     "output_type": "stream",
     "text": [
      "\r",
      " 34%|███▍      | 34/100 [3:25:23<12:55:30, 705.00s/it]"
     ]
    },
    {
     "name": "stdout",
     "output_type": "stream",
     "text": [
      "Epoch  average reconstruction error   : 34 0.012949488032609225\n",
      " likelihood  : -2.114396610606683\n"
     ]
    },
    {
     "name": "stderr",
     "output_type": "stream",
     "text": [
      "\r",
      " 35%|███▌      | 35/100 [3:37:50<12:57:17, 717.49s/it]"
     ]
    },
    {
     "name": "stdout",
     "output_type": "stream",
     "text": [
      "Epoch  average reconstruction error   : 35 0.01273331199772656\n",
      " likelihood  : -2.044794469841705\n"
     ]
    },
    {
     "name": "stderr",
     "output_type": "stream",
     "text": [
      "\r",
      " 36%|███▌      | 36/100 [3:47:26<12:00:02, 675.04s/it]"
     ]
    },
    {
     "name": "stdout",
     "output_type": "stream",
     "text": [
      "Epoch  average reconstruction error   : 36 0.01277560031041503\n",
      " likelihood  : -2.0169945227695623\n"
     ]
    },
    {
     "name": "stderr",
     "output_type": "stream",
     "text": [
      "\r",
      " 37%|███▋      | 37/100 [3:52:25<9:50:36, 562.49s/it] "
     ]
    },
    {
     "name": "stdout",
     "output_type": "stream",
     "text": [
      "Epoch  average reconstruction error   : 37 0.01273765992373228\n",
      " likelihood  : -2.0382171250659726\n"
     ]
    },
    {
     "name": "stderr",
     "output_type": "stream",
     "text": [
      "\r",
      " 38%|███▊      | 38/100 [3:57:23<8:19:11, 483.09s/it]"
     ]
    },
    {
     "name": "stdout",
     "output_type": "stream",
     "text": [
      "Epoch  average reconstruction error   : 38 0.01274836802855134\n",
      " likelihood  : -2.041204985333014\n"
     ]
    },
    {
     "name": "stderr",
     "output_type": "stream",
     "text": [
      "\r",
      " 39%|███▉      | 39/100 [4:02:18<7:13:47, 426.67s/it]"
     ]
    },
    {
     "name": "stdout",
     "output_type": "stream",
     "text": [
      "Epoch  average reconstruction error   : 39 0.01266422213986516\n",
      " likelihood  : -2.028375079209753\n"
     ]
    },
    {
     "name": "stderr",
     "output_type": "stream",
     "text": [
      "\r",
      " 40%|████      | 40/100 [4:07:10<6:26:08, 386.14s/it]"
     ]
    },
    {
     "name": "stdout",
     "output_type": "stream",
     "text": [
      "Epoch  average reconstruction error   : 40 0.012754190880805254\n",
      " likelihood  : -2.016953359748753\n"
     ]
    },
    {
     "name": "stderr",
     "output_type": "stream",
     "text": [
      "\r",
      " 41%|████      | 41/100 [4:12:06<5:53:04, 359.06s/it]"
     ]
    },
    {
     "name": "stdout",
     "output_type": "stream",
     "text": [
      "Epoch  average reconstruction error   : 41 0.012538438551127911\n",
      " likelihood  : -1.9915716418601348\n"
     ]
    },
    {
     "name": "stderr",
     "output_type": "stream",
     "text": [
      "\r",
      " 42%|████▏     | 42/100 [4:16:55<5:26:42, 337.97s/it]"
     ]
    },
    {
     "name": "stdout",
     "output_type": "stream",
     "text": [
      "Epoch  average reconstruction error   : 42 0.012639732891693711\n",
      " likelihood  : -1.9893947225746655\n"
     ]
    },
    {
     "name": "stderr",
     "output_type": "stream",
     "text": [
      "\r",
      " 43%|████▎     | 43/100 [4:21:50<5:08:52, 325.14s/it]"
     ]
    },
    {
     "name": "stdout",
     "output_type": "stream",
     "text": [
      "Epoch  average reconstruction error   : 43 0.01294687805697322\n",
      " likelihood  : -1.9560120034025483\n"
     ]
    },
    {
     "name": "stderr",
     "output_type": "stream",
     "text": [
      "\r",
      " 44%|████▍     | 44/100 [4:26:42<4:54:09, 315.18s/it]"
     ]
    },
    {
     "name": "stdout",
     "output_type": "stream",
     "text": [
      "Epoch  average reconstruction error   : 44 0.01254357629455626\n",
      " likelihood  : -1.909560498487382\n"
     ]
    },
    {
     "name": "stderr",
     "output_type": "stream",
     "text": [
      "\r",
      " 45%|████▌     | 45/100 [4:31:32<4:42:02, 307.69s/it]"
     ]
    },
    {
     "name": "stdout",
     "output_type": "stream",
     "text": [
      "Epoch  average reconstruction error   : 45 0.012441689297556877\n",
      " likelihood  : -1.9266246996723222\n"
     ]
    },
    {
     "name": "stderr",
     "output_type": "stream",
     "text": [
      "\r",
      " 46%|████▌     | 46/100 [4:36:24<4:32:48, 303.12s/it]"
     ]
    },
    {
     "name": "stdout",
     "output_type": "stream",
     "text": [
      "Epoch  average reconstruction error   : 46 0.01249041324481368\n",
      " likelihood  : -1.9220736994481056\n"
     ]
    },
    {
     "name": "stderr",
     "output_type": "stream",
     "text": [
      "\r",
      " 47%|████▋     | 47/100 [4:41:13<4:23:54, 298.76s/it]"
     ]
    },
    {
     "name": "stdout",
     "output_type": "stream",
     "text": [
      "Epoch  average reconstruction error   : 47 0.012707196837291122\n",
      " likelihood  : -1.8582521277268769\n"
     ]
    },
    {
     "name": "stderr",
     "output_type": "stream",
     "text": [
      "\r",
      " 48%|████▊     | 48/100 [4:46:08<4:18:05, 297.81s/it]"
     ]
    },
    {
     "name": "stdout",
     "output_type": "stream",
     "text": [
      "Epoch  average reconstruction error   : 48 0.012384176263585686\n",
      " likelihood  : -1.8740364490479973\n"
     ]
    },
    {
     "name": "stderr",
     "output_type": "stream",
     "text": [
      "\r",
      " 49%|████▉     | 49/100 [4:50:57<4:10:46, 295.03s/it]"
     ]
    },
    {
     "name": "stdout",
     "output_type": "stream",
     "text": [
      "Epoch  average reconstruction error   : 49 0.012395782014355063\n",
      " likelihood  : -1.845396816155414\n"
     ]
    },
    {
     "name": "stderr",
     "output_type": "stream",
     "text": [
      "\r",
      " 50%|█████     | 50/100 [4:56:48<4:19:44, 311.68s/it]"
     ]
    },
    {
     "name": "stdout",
     "output_type": "stream",
     "text": [
      "Epoch  average reconstruction error   : 50 0.012453876798972488\n",
      " likelihood  : -1.81173390276795\n"
     ]
    },
    {
     "name": "stderr",
     "output_type": "stream",
     "text": [
      "\r",
      " 51%|█████     | 51/100 [5:02:37<4:23:44, 322.95s/it]"
     ]
    },
    {
     "name": "stdout",
     "output_type": "stream",
     "text": [
      "Epoch  average reconstruction error   : 51 0.012425412675365805\n",
      " likelihood  : -1.7797476152682412\n"
     ]
    },
    {
     "name": "stderr",
     "output_type": "stream",
     "text": [
      "\r",
      " 52%|█████▏    | 52/100 [5:07:28<4:10:49, 313.54s/it]"
     ]
    },
    {
     "name": "stdout",
     "output_type": "stream",
     "text": [
      "Epoch  average reconstruction error   : 52 0.012412331914529205\n",
      " likelihood  : -1.7240020239742382\n",
      "Epoch  average reconstruction error   : 53 0.012298170011490583\n",
      " likelihood  : -1.79314857055742\n"
     ]
    },
    {
     "name": "stderr",
     "output_type": "stream",
     "text": [
      " 54%|█████▍    | 54/100 [5:17:03<3:49:57, 299.94s/it]"
     ]
    },
    {
     "name": "stdout",
     "output_type": "stream",
     "text": [
      "Epoch  average reconstruction error   : 54 0.012261324506253004\n",
      " likelihood  : -1.7672879522907694\n"
     ]
    },
    {
     "name": "stderr",
     "output_type": "stream",
     "text": [
      "\r",
      " 55%|█████▌    | 55/100 [5:21:56<3:43:33, 298.07s/it]"
     ]
    },
    {
     "name": "stdout",
     "output_type": "stream",
     "text": [
      "Epoch  average reconstruction error   : 55 0.012410438926890493\n",
      " likelihood  : -1.7393313224337754\n"
     ]
    },
    {
     "name": "stderr",
     "output_type": "stream",
     "text": [
      "\r",
      " 56%|█████▌    | 56/100 [5:26:54<3:38:31, 297.99s/it]"
     ]
    },
    {
     "name": "stdout",
     "output_type": "stream",
     "text": [
      "Epoch  average reconstruction error   : 56 0.012161577604711055\n",
      " likelihood  : -1.7670228649179036\n"
     ]
    },
    {
     "name": "stderr",
     "output_type": "stream",
     "text": [
      "\r",
      " 57%|█████▋    | 57/100 [5:31:39<3:30:45, 294.07s/it]"
     ]
    },
    {
     "name": "stdout",
     "output_type": "stream",
     "text": [
      "Epoch  average reconstruction error   : 57 0.012259689373895526\n",
      " likelihood  : -1.7266964439753172\n"
     ]
    },
    {
     "name": "stderr",
     "output_type": "stream",
     "text": [
      "\r",
      " 58%|█████▊    | 58/100 [5:36:33<3:25:52, 294.10s/it]"
     ]
    },
    {
     "name": "stdout",
     "output_type": "stream",
     "text": [
      "Epoch  average reconstruction error   : 58 0.012211850471794605\n",
      " likelihood  : -1.6849306030987286\n"
     ]
    },
    {
     "name": "stderr",
     "output_type": "stream",
     "text": [
      "\r",
      " 59%|█████▉    | 59/100 [5:41:35<3:22:32, 296.41s/it]"
     ]
    },
    {
     "name": "stdout",
     "output_type": "stream",
     "text": [
      "Epoch  average reconstruction error   : 59 0.01222049699164927\n",
      " likelihood  : -1.6760441769103611\n"
     ]
    },
    {
     "name": "stderr",
     "output_type": "stream",
     "text": [
      "\r",
      " 60%|██████    | 60/100 [5:46:29<3:17:03, 295.58s/it]"
     ]
    },
    {
     "name": "stdout",
     "output_type": "stream",
     "text": [
      "Epoch  average reconstruction error   : 60 0.012193094193935394\n",
      " likelihood  : -1.7039130381697962\n"
     ]
    },
    {
     "name": "stderr",
     "output_type": "stream",
     "text": [
      "\r",
      " 61%|██████    | 61/100 [5:51:24<3:12:01, 295.42s/it]"
     ]
    },
    {
     "name": "stdout",
     "output_type": "stream",
     "text": [
      "Epoch  average reconstruction error   : 61 0.012066298127174378\n",
      " likelihood  : -1.684582464631618\n"
     ]
    },
    {
     "name": "stderr",
     "output_type": "stream",
     "text": [
      "\r",
      " 62%|██████▏   | 62/100 [5:56:25<3:08:09, 297.10s/it]"
     ]
    },
    {
     "name": "stdout",
     "output_type": "stream",
     "text": [
      "Epoch  average reconstruction error   : 62 0.012116008708253502\n",
      " likelihood  : -1.704792529632981\n"
     ]
    },
    {
     "name": "stderr",
     "output_type": "stream",
     "text": [
      "\r",
      " 63%|██████▎   | 63/100 [6:01:15<3:01:58, 295.09s/it]"
     ]
    },
    {
     "name": "stdout",
     "output_type": "stream",
     "text": [
      "Epoch  average reconstruction error   : 63 0.012195735611021519\n",
      " likelihood  : -1.6527683956717412\n"
     ]
    },
    {
     "name": "stderr",
     "output_type": "stream",
     "text": [
      "\r",
      " 64%|██████▍   | 64/100 [6:06:07<2:56:28, 294.12s/it]"
     ]
    },
    {
     "name": "stdout",
     "output_type": "stream",
     "text": [
      "Epoch  average reconstruction error   : 64 0.012149393437430262\n",
      " likelihood  : -1.674225787054589\n"
     ]
    },
    {
     "name": "stderr",
     "output_type": "stream",
     "text": [
      "\r",
      " 65%|██████▌   | 65/100 [6:11:06<2:52:19, 295.42s/it]"
     ]
    },
    {
     "name": "stdout",
     "output_type": "stream",
     "text": [
      "Epoch  average reconstruction error   : 65 0.011973916217684746\n",
      " likelihood  : -1.6928908645630445\n"
     ]
    },
    {
     "name": "stderr",
     "output_type": "stream",
     "text": [
      "\r",
      " 66%|██████▌   | 66/100 [6:15:54<2:46:14, 293.38s/it]"
     ]
    },
    {
     "name": "stdout",
     "output_type": "stream",
     "text": [
      "Epoch  average reconstruction error   : 66 0.012172435997053982\n",
      " likelihood  : -1.679150676729069\n"
     ]
    },
    {
     "name": "stderr",
     "output_type": "stream",
     "text": [
      "\r",
      " 67%|██████▋   | 67/100 [6:20:47<2:41:19, 293.32s/it]"
     ]
    },
    {
     "name": "stdout",
     "output_type": "stream",
     "text": [
      "Epoch  average reconstruction error   : 67 0.012034692689776421\n",
      " likelihood  : -1.637299604698296\n"
     ]
    },
    {
     "name": "stderr",
     "output_type": "stream",
     "text": [
      "\r",
      " 68%|██████▊   | 68/100 [6:25:45<2:37:08, 294.63s/it]"
     ]
    },
    {
     "name": "stdout",
     "output_type": "stream",
     "text": [
      "Epoch  average reconstruction error   : 68 0.012192457970231772\n",
      " likelihood  : -1.6519922371612714\n"
     ]
    },
    {
     "name": "stderr",
     "output_type": "stream",
     "text": [
      "\r",
      " 69%|██████▉   | 69/100 [6:30:30<2:30:40, 291.64s/it]"
     ]
    },
    {
     "name": "stdout",
     "output_type": "stream",
     "text": [
      "Epoch  average reconstruction error   : 69 0.011878208881244063\n",
      " likelihood  : -1.6722524006172992\n"
     ]
    },
    {
     "name": "stderr",
     "output_type": "stream",
     "text": [
      "\r",
      " 70%|███████   | 70/100 [6:35:28<2:26:48, 293.61s/it]"
     ]
    },
    {
     "name": "stdout",
     "output_type": "stream",
     "text": [
      "Epoch  average reconstruction error   : 70 0.011968177007511259\n",
      " likelihood  : -1.6589879142166597\n"
     ]
    },
    {
     "name": "stderr",
     "output_type": "stream",
     "text": [
      "\r",
      " 71%|███████   | 71/100 [6:40:16<2:21:04, 291.89s/it]"
     ]
    },
    {
     "name": "stdout",
     "output_type": "stream",
     "text": [
      "Epoch  average reconstruction error   : 71 0.012058202419430017\n",
      " likelihood  : -1.6591141005342989\n"
     ]
    },
    {
     "name": "stderr",
     "output_type": "stream",
     "text": [
      "\r",
      " 72%|███████▏  | 72/100 [6:45:02<2:15:24, 290.17s/it]"
     ]
    },
    {
     "name": "stdout",
     "output_type": "stream",
     "text": [
      "Epoch  average reconstruction error   : 72 0.011892276536673307\n",
      " likelihood  : -1.657112004947561\n"
     ]
    },
    {
     "name": "stderr",
     "output_type": "stream",
     "text": [
      "\r",
      " 73%|███████▎  | 73/100 [6:49:48<2:10:02, 288.97s/it]"
     ]
    },
    {
     "name": "stdout",
     "output_type": "stream",
     "text": [
      "Epoch  average reconstruction error   : 73 0.012012925585731865\n",
      " likelihood  : -1.6775322552785008\n"
     ]
    },
    {
     "name": "stderr",
     "output_type": "stream",
     "text": [
      "\r",
      " 74%|███████▍  | 74/100 [6:54:38<2:05:16, 289.10s/it]"
     ]
    },
    {
     "name": "stdout",
     "output_type": "stream",
     "text": [
      "Epoch  average reconstruction error   : 74 0.012061997111886739\n",
      " likelihood  : -1.6401669932447915\n"
     ]
    },
    {
     "name": "stderr",
     "output_type": "stream",
     "text": [
      "\r",
      " 75%|███████▌  | 75/100 [6:59:22<1:59:52, 287.71s/it]"
     ]
    },
    {
     "name": "stdout",
     "output_type": "stream",
     "text": [
      "Epoch  average reconstruction error   : 75 0.011867682142183185\n",
      " likelihood  : -1.6010547919151432\n",
      "Epoch    76: reducing learning rate of group 0 to 1.0000e-04.\n"
     ]
    },
    {
     "name": "stderr",
     "output_type": "stream",
     "text": [
      "\r",
      " 76%|███████▌  | 76/100 [7:04:06<1:54:36, 286.50s/it]"
     ]
    },
    {
     "name": "stdout",
     "output_type": "stream",
     "text": [
      "Epoch  average reconstruction error   : 76 0.011902220295742155\n",
      " likelihood  : -1.6341239254149227\n"
     ]
    },
    {
     "name": "stderr",
     "output_type": "stream",
     "text": [
      "\r",
      " 77%|███████▋  | 77/100 [7:08:55<1:50:08, 287.32s/it]"
     ]
    },
    {
     "name": "stdout",
     "output_type": "stream",
     "text": [
      "Epoch  average reconstruction error   : 77 0.011285477196797728\n",
      " likelihood  : -1.6231876159645657\n"
     ]
    },
    {
     "name": "stderr",
     "output_type": "stream",
     "text": [
      "\r",
      " 78%|███████▊  | 78/100 [7:13:38<1:44:53, 286.05s/it]"
     ]
    },
    {
     "name": "stdout",
     "output_type": "stream",
     "text": [
      "Epoch  average reconstruction error   : 78 0.011212242199108005\n",
      " likelihood  : -1.625942712367383\n"
     ]
    },
    {
     "name": "stderr",
     "output_type": "stream",
     "text": [
      "\r",
      " 79%|███████▉  | 79/100 [7:18:25<1:40:11, 286.26s/it]"
     ]
    },
    {
     "name": "stdout",
     "output_type": "stream",
     "text": [
      "Epoch  average reconstruction error   : 79 0.011195542123168707\n",
      " likelihood  : -1.6182997446529455\n"
     ]
    },
    {
     "name": "stderr",
     "output_type": "stream",
     "text": [
      "\r",
      " 80%|████████  | 80/100 [7:23:12<1:35:31, 286.59s/it]"
     ]
    },
    {
     "name": "stdout",
     "output_type": "stream",
     "text": [
      "Epoch  average reconstruction error   : 80 0.011184273874387146\n",
      " likelihood  : -1.6092859330053353\n"
     ]
    },
    {
     "name": "stderr",
     "output_type": "stream",
     "text": [
      "\r",
      " 81%|████████  | 81/100 [7:28:03<1:31:10, 287.92s/it]"
     ]
    },
    {
     "name": "stdout",
     "output_type": "stream",
     "text": [
      "Epoch  average reconstruction error   : 81 0.011187314093112945\n",
      " likelihood  : -1.59546889397707\n"
     ]
    },
    {
     "name": "stderr",
     "output_type": "stream",
     "text": [
      "\r",
      " 82%|████████▏ | 82/100 [7:32:55<1:26:43, 289.11s/it]"
     ]
    },
    {
     "name": "stdout",
     "output_type": "stream",
     "text": [
      "Epoch  average reconstruction error   : 82 0.011178203877061605\n",
      " likelihood  : -1.5994608202897478\n"
     ]
    },
    {
     "name": "stderr",
     "output_type": "stream",
     "text": [
      "\r",
      " 83%|████████▎ | 83/100 [7:37:45<1:21:57, 289.26s/it]"
     ]
    },
    {
     "name": "stdout",
     "output_type": "stream",
     "text": [
      "Epoch  average reconstruction error   : 83 0.011181256659328937\n",
      " likelihood  : -1.6179739270509939\n"
     ]
    },
    {
     "name": "stderr",
     "output_type": "stream",
     "text": [
      "\r",
      " 84%|████████▍ | 84/100 [7:42:30<1:16:49, 288.12s/it]"
     ]
    },
    {
     "name": "stdout",
     "output_type": "stream",
     "text": [
      "Epoch  average reconstruction error   : 84 0.011176937920972706\n",
      " likelihood  : -1.611836557960174\n"
     ]
    },
    {
     "name": "stderr",
     "output_type": "stream",
     "text": [
      "\r",
      " 85%|████████▌ | 85/100 [7:47:20<1:12:11, 288.75s/it]"
     ]
    },
    {
     "name": "stdout",
     "output_type": "stream",
     "text": [
      "Epoch  average reconstruction error   : 85 0.011168018123134971\n",
      " likelihood  : -1.5998101854078057\n"
     ]
    },
    {
     "name": "stderr",
     "output_type": "stream",
     "text": [
      "\r",
      " 86%|████████▌ | 86/100 [7:52:12<1:07:36, 289.77s/it]"
     ]
    },
    {
     "name": "stdout",
     "output_type": "stream",
     "text": [
      "Epoch  average reconstruction error   : 86 0.011158937057480216\n",
      " likelihood  : -1.6364849101785142\n"
     ]
    },
    {
     "name": "stderr",
     "output_type": "stream",
     "text": [
      "\r",
      " 87%|████████▋ | 87/100 [7:57:02<1:02:46, 289.75s/it]"
     ]
    },
    {
     "name": "stdout",
     "output_type": "stream",
     "text": [
      "Epoch  average reconstruction error   : 87 0.01115771759301424\n",
      " likelihood  : -1.57678809215084\n"
     ]
    },
    {
     "name": "stderr",
     "output_type": "stream",
     "text": [
      "\r",
      " 88%|████████▊ | 88/100 [8:01:53<58:00, 290.03s/it]  "
     ]
    },
    {
     "name": "stdout",
     "output_type": "stream",
     "text": [
      "Epoch  average reconstruction error   : 88 0.011163517395034432\n",
      " likelihood  : -1.6224873870463403\n"
     ]
    },
    {
     "name": "stderr",
     "output_type": "stream",
     "text": [
      "\r",
      " 89%|████████▉ | 89/100 [8:06:47<53:24, 291.33s/it]"
     ]
    },
    {
     "name": "stdout",
     "output_type": "stream",
     "text": [
      "Epoch  average reconstruction error   : 89 0.01115494198165834\n",
      " likelihood  : -1.5732514424852821\n"
     ]
    },
    {
     "name": "stderr",
     "output_type": "stream",
     "text": [
      "\r",
      " 90%|█████████ | 90/100 [8:11:36<48:26, 290.65s/it]"
     ]
    },
    {
     "name": "stdout",
     "output_type": "stream",
     "text": [
      "Epoch  average reconstruction error   : 90 0.011157603804022073\n",
      " likelihood  : -1.5744452437223717\n"
     ]
    },
    {
     "name": "stderr",
     "output_type": "stream",
     "text": [
      "\r",
      " 91%|█████████ | 91/100 [8:16:33<43:53, 292.59s/it]"
     ]
    },
    {
     "name": "stdout",
     "output_type": "stream",
     "text": [
      "Epoch  average reconstruction error   : 91 0.011158341523259879\n",
      " likelihood  : -1.5772761016270056\n"
     ]
    },
    {
     "name": "stderr",
     "output_type": "stream",
     "text": [
      "\r",
      " 92%|█████████▏| 92/100 [8:21:25<38:58, 292.27s/it]"
     ]
    },
    {
     "name": "stdout",
     "output_type": "stream",
     "text": [
      "Epoch  average reconstruction error   : 92 0.01115065854974091\n",
      " likelihood  : -1.6050218628391741\n"
     ]
    },
    {
     "name": "stderr",
     "output_type": "stream",
     "text": [
      "\r",
      " 93%|█████████▎| 93/100 [8:26:23<34:17, 293.97s/it]"
     ]
    },
    {
     "name": "stdout",
     "output_type": "stream",
     "text": [
      "Epoch  average reconstruction error   : 93 0.011138105373829603\n",
      " likelihood  : -1.5891517553438375\n"
     ]
    },
    {
     "name": "stderr",
     "output_type": "stream",
     "text": [
      "\r",
      " 94%|█████████▍| 94/100 [8:31:16<29:21, 293.61s/it]"
     ]
    },
    {
     "name": "stdout",
     "output_type": "stream",
     "text": [
      "Epoch  average reconstruction error   : 94 0.011150418603792787\n",
      " likelihood  : -1.5476403795583065\n"
     ]
    },
    {
     "name": "stderr",
     "output_type": "stream",
     "text": [
      "\r",
      " 95%|█████████▌| 95/100 [8:36:15<24:36, 295.34s/it]"
     ]
    },
    {
     "name": "stdout",
     "output_type": "stream",
     "text": [
      "Epoch  average reconstruction error   : 95 0.011141545195132494\n",
      " likelihood  : -1.576161052152528\n",
      "Epoch    96: reducing learning rate of group 0 to 1.0000e-05.\n"
     ]
    },
    {
     "name": "stderr",
     "output_type": "stream",
     "text": [
      "\r",
      " 96%|█████████▌| 96/100 [8:40:55<19:22, 290.73s/it]"
     ]
    },
    {
     "name": "stdout",
     "output_type": "stream",
     "text": [
      "Epoch  average reconstruction error   : 96 0.011145412446931005\n",
      " likelihood  : -1.581788919349072\n"
     ]
    },
    {
     "name": "stderr",
     "output_type": "stream",
     "text": [
      "\r",
      " 97%|█████████▋| 97/100 [8:45:50<14:36, 292.02s/it]"
     ]
    },
    {
     "name": "stdout",
     "output_type": "stream",
     "text": [
      "Epoch  average reconstruction error   : 97 0.011081001935526729\n",
      " likelihood  : -1.5670558893527442\n"
     ]
    },
    {
     "name": "stderr",
     "output_type": "stream",
     "text": [
      "\r",
      " 98%|█████████▊| 98/100 [8:50:32<09:38, 289.06s/it]"
     ]
    },
    {
     "name": "stdout",
     "output_type": "stream",
     "text": [
      "Epoch  average reconstruction error   : 98 0.011077882619574667\n",
      " likelihood  : -1.5596118799040988\n"
     ]
    },
    {
     "name": "stderr",
     "output_type": "stream",
     "text": [
      "\r",
      " 99%|█████████▉| 99/100 [8:55:28<04:51, 291.12s/it]"
     ]
    },
    {
     "name": "stdout",
     "output_type": "stream",
     "text": [
      "Epoch  average reconstruction error   : 99 0.011068758834153414\n",
      " likelihood  : -1.5658692345762537\n"
     ]
    },
    {
     "name": "stderr",
     "output_type": "stream",
     "text": [
      "100%|██████████| 100/100 [9:00:16<00:00, 324.17s/it]"
     ]
    },
    {
     "name": "stdout",
     "output_type": "stream",
     "text": [
      "Epoch  average reconstruction error   : 100 0.011049689901992678\n",
      " likelihood  : -1.577645810385747\n",
      "train1 [0.07799870854243636, 0.01973266528919339, 0.01631158472970128, 0.015531931342557072, 0.015498931547626852, 0.015065044965595006, 0.014812371544539928, 0.014825930604711175, 0.014578322377055884, 0.014517799485474825, 0.01430781077593565, 0.014253993984311819, 0.014134855465963483, 0.014020481891930104, 0.013915054174140096, 0.013884138986468316, 0.0136776003241539, 0.013562498316168785, 0.013494437402114272, 0.013361084293574094, 0.013316354146227241, 0.013199488660320639, 0.01313616550527513, 0.013126769280061125, 0.013062205258756876, 0.012975092642009259, 0.013065021075308323, 0.012901789303869008, 0.01290472893975675, 0.013035479793325066, 0.012774287452921272, 0.012885332321748138, 0.01280006323941052, 0.012949488032609225, 0.01273331199772656, 0.01277560031041503, 0.01273765992373228, 0.01274836802855134, 0.01266422213986516, 0.012754190880805254, 0.012538438551127911, 0.012639732891693711, 0.01294687805697322, 0.01254357629455626, 0.012441689297556877, 0.01249041324481368, 0.012707196837291122, 0.012384176263585686, 0.012395782014355063, 0.012453876798972488, 0.012425412675365805, 0.012412331914529205, 0.012298170011490583, 0.012261324506253004, 0.012410438926890493, 0.012161577604711055, 0.012259689373895526, 0.012211850471794605, 0.01222049699164927, 0.012193094193935394, 0.012066298127174378, 0.012116008708253502, 0.012195735611021519, 0.012149393437430262, 0.011973916217684746, 0.012172435997053982, 0.012034692689776421, 0.012192457970231772, 0.011878208881244063, 0.011968177007511259, 0.012058202419430017, 0.011892276536673307, 0.012012925585731865, 0.012061997111886739, 0.011867682142183185, 0.011902220295742155, 0.011285477196797728, 0.011212242199108005, 0.011195542123168707, 0.011184273874387146, 0.011187314093112945, 0.011178203877061605, 0.011181256659328937, 0.011176937920972706, 0.011168018123134971, 0.011158937057480216, 0.01115771759301424, 0.011163517395034432, 0.01115494198165834, 0.011157603804022073, 0.011158341523259879, 0.01115065854974091, 0.011138105373829603, 0.011150418603792787, 0.011141545195132494, 0.011145412446931005, 0.011081001935526729, 0.011077882619574667, 0.011068758834153414, 0.011049689901992678] [-3.959704052541335, -3.4257890047865116, -3.246862333211416, -3.132206247378979, -3.206239554764792, -3.225510027973675, -3.1367191619996317, -3.1840283451966442, -3.138174199309117, -3.0618832575108867, -3.1434561114775796, -3.0643895011401074, -3.007655728015009, -3.01415813338002, -2.9087398264925453, -2.8444395629209267, -2.796829065239738, -2.681173105616483, -2.6876313181194744, -2.5853930225604653, -2.513631554394485, -2.4917053282029995, -2.4590839044354427, -2.365470322013018, -2.354728587474747, -2.3046814359563417, -2.2767594405286373, -2.2259959211773044, -2.1057438676516895, -2.1700646259714187, -2.1831336894573425, -2.1413198247961747, -2.0797055283334744, -2.114396610606683, -2.044794469841705, -2.0169945227695623, -2.0382171250659726, -2.041204985333014, -2.028375079209753, -2.016953359748753, -1.9915716418601348, -1.9893947225746655, -1.9560120034025483, -1.909560498487382, -1.9266246996723222, -1.9220736994481056, -1.8582521277268769, -1.8740364490479973, -1.845396816155414, -1.81173390276795, -1.7797476152682412, -1.7240020239742382, -1.79314857055742, -1.7672879522907694, -1.7393313224337754, -1.7670228649179036, -1.7266964439753172, -1.6849306030987286, -1.6760441769103611, -1.7039130381697962, -1.684582464631618, -1.704792529632981, -1.6527683956717412, -1.674225787054589, -1.6928908645630445, -1.679150676729069, -1.637299604698296, -1.6519922371612714, -1.6722524006172992, -1.6589879142166597, -1.6591141005342989, -1.657112004947561, -1.6775322552785008, -1.6401669932447915, -1.6010547919151432, -1.6341239254149227, -1.6231876159645657, -1.625942712367383, -1.6182997446529455, -1.6092859330053353, -1.59546889397707, -1.5994608202897478, -1.6179739270509939, -1.611836557960174, -1.5998101854078057, -1.6364849101785142, -1.57678809215084, -1.6224873870463403, -1.5732514424852821, -1.5744452437223717, -1.5772761016270056, -1.6050218628391741, -1.5891517553438375, -1.5476403795583065, -1.576161052152528, -1.581788919349072, -1.5670558893527442, -1.5596118799040988, -1.5658692345762537, -1.577645810385747]\n"
     ]
    },
    {
     "name": "stderr",
     "output_type": "stream",
     "text": [
      "\n",
      "__main__:34: MatplotlibDeprecationWarning: Adding an axes using the same arguments as a previous axes currently reuses the earlier instance.  In a future version, a new instance will always be created and returned.  Meanwhile, this warning can be suppressed, and the future behavior ensured, by passing a unique label to each axes instance.\n"
     ]
    },
    {
     "data": {
      "image/png": "[encoded data removed]",
      "text/plain": [
       "<Figure size 432x288 with 1 Axes>"
      ]
     },
     "metadata": {
      "needs_background": "light"
     },
     "output_type": "display_data"
    }
   ],
   "source": [
    "# k = 500, epoch 100\n",
    "if __name__ == \"__main__\":\n",
    "    print(\"Starting training....\")\n",
    "    train_500 = []\n",
    "    log_500 = []\n",
    "    \n",
    "    for epoch in tqdm(range(1, args.epochs + 1)):\n",
    "      #  train(epoch)\n",
    "        a,b= train(epoch)\n",
    "        train_500.append(a)\n",
    "        log_500.append(b)\n",
    "        \n",
    "  \n",
    "    print(\"train1\", train_500, log_500)\n",
    "\n",
    "\n",
    "    gt = next(train_loader)\n",
    "        \n",
    "    with torch.no_grad():\n",
    "        #sample = torch.randn(2048, K).to(device)\n",
    "        #out = model.decode(sample).cpu().numpy()\n",
    "        out1 = model.sample()\n",
    "        recon = model(gt)[0].cpu().numpy()\n",
    "\n",
    "    rx,ry = recon[:,0], recon[:,1]\n",
    "        \n",
    "    gt = gt.cpu().numpy()\n",
    "    gx, gy = gt[:,0], gt[:,1]\n",
    "        \n",
    "    xs, ys = out1[:,0], out1[:,1]\n",
    "\n",
    "    plt.scatter(gx, gy, c = 'red', s=3)\n",
    "    plt.scatter(xs, ys, c = 'blue', s=3)\n",
    "    plt.axes().set_aspect('equal')\n",
    "    plt.show()\n",
    "    \n",
    "#    st()"
   ]
  },
  {
   "cell_type": "code",
   "execution_count": 38,
   "metadata": {},
   "outputs": [],
   "source": [
    "train_500 = np.array([0.07799870854243636,\n",
    " 0.01973266528919339,\n",
    " 0.01631158472970128,\n",
    " 0.015531931342557072,\n",
    " 0.015498931547626852,\n",
    " 0.015065044965595006,\n",
    " 0.014812371544539928,\n",
    " 0.014825930604711175,\n",
    " 0.014578322377055884,\n",
    " 0.014517799485474825,\n",
    " 0.01430781077593565,\n",
    " 0.014253993984311819,\n",
    " 0.014134855465963483,\n",
    " 0.014020481891930104,\n",
    " 0.013915054174140096,\n",
    " 0.013884138986468316,\n",
    " 0.0136776003241539,\n",
    " 0.013562498316168785,\n",
    " 0.013494437402114272,\n",
    " 0.013361084293574094,\n",
    " 0.013316354146227241,\n",
    " 0.013199488660320639,\n",
    " 0.01313616550527513,\n",
    " 0.013126769280061125,\n",
    " 0.013062205258756876,\n",
    " 0.012975092642009259,\n",
    " 0.013065021075308323,\n",
    " 0.012901789303869008,\n",
    " 0.01290472893975675,\n",
    " 0.013035479793325066,\n",
    " 0.012774287452921272,\n",
    " 0.012885332321748138,\n",
    " 0.01280006323941052,\n",
    " 0.012949488032609225,\n",
    " 0.01273331199772656,\n",
    " 0.01277560031041503,\n",
    " 0.01273765992373228,\n",
    " 0.01274836802855134,\n",
    " 0.01266422213986516,\n",
    " 0.012754190880805254,\n",
    " 0.012538438551127911,\n",
    " 0.012639732891693711,\n",
    " 0.01294687805697322,\n",
    " 0.01254357629455626,\n",
    " 0.012441689297556877,\n",
    " 0.01249041324481368,\n",
    " 0.012707196837291122,\n",
    " 0.012384176263585686,\n",
    " 0.012395782014355063,\n",
    " 0.012453876798972488,\n",
    " 0.012425412675365805,\n",
    " 0.012412331914529205,\n",
    " 0.012298170011490583,\n",
    " 0.012261324506253004,\n",
    " 0.012410438926890493,\n",
    " 0.012161577604711055,\n",
    " 0.012259689373895526,\n",
    " 0.012211850471794605,\n",
    " 0.01222049699164927,\n",
    " 0.012193094193935394,\n",
    " 0.012066298127174378,\n",
    " 0.012116008708253502,\n",
    " 0.012195735611021519,\n",
    " 0.012149393437430262,\n",
    " 0.011973916217684746,\n",
    " 0.012172435997053982,\n",
    " 0.012034692689776421,\n",
    " 0.012192457970231772,\n",
    " 0.011878208881244063,\n",
    " 0.011968177007511259,\n",
    " 0.012058202419430017,\n",
    " 0.011892276536673307,\n",
    " 0.012012925585731865,\n",
    " 0.012061997111886739,\n",
    " 0.011867682142183185,\n",
    " 0.011902220295742155,\n",
    " 0.011285477196797728,\n",
    " 0.011212242199108005,\n",
    " 0.011195542123168707,\n",
    " 0.011184273874387146,\n",
    " 0.011187314093112945,\n",
    " 0.011178203877061605,\n",
    " 0.011181256659328937,\n",
    " 0.011176937920972706,\n",
    " 0.011168018123134971,\n",
    " 0.011158937057480216,\n",
    " 0.01115771759301424,\n",
    " 0.011163517395034432,\n",
    " 0.01115494198165834,\n",
    " 0.011157603804022073,\n",
    " 0.011158341523259879,\n",
    " 0.01115065854974091,\n",
    " 0.011138105373829603,\n",
    " 0.011150418603792787,\n",
    " 0.011141545195132494,\n",
    " 0.011145412446931005,\n",
    " 0.011081001935526729,\n",
    " 0.011077882619574667,\n",
    " 0.011068758834153414,\n",
    " 0.011049689901992678])\n"
   ]
  },
  {
   "cell_type": "code",
   "execution_count": null,
   "metadata": {},
   "outputs": [],
   "source": []
  },
  {
   "cell_type": "code",
   "execution_count": 39,
   "metadata": {},
   "outputs": [],
   "source": [
    "log_500 = np.array([-3.959704052541335,\n",
    " -3.4257890047865116,\n",
    " -3.246862333211416,\n",
    " -3.132206247378979,\n",
    " -3.206239554764792,\n",
    " -3.225510027973675,\n",
    " -3.1367191619996317,\n",
    " -3.1840283451966442,\n",
    " -3.138174199309117,\n",
    " -3.0618832575108867,\n",
    " -3.1434561114775796,\n",
    " -3.0643895011401074,\n",
    " -3.007655728015009,\n",
    " -3.01415813338002,\n",
    " -2.9087398264925453,\n",
    " -2.8444395629209267,\n",
    " -2.796829065239738,\n",
    " -2.681173105616483,\n",
    " -2.6876313181194744,\n",
    " -2.5853930225604653,\n",
    " -2.513631554394485,\n",
    " -2.4917053282029995,\n",
    " -2.4590839044354427,\n",
    " -2.365470322013018,\n",
    " -2.354728587474747,\n",
    " -2.3046814359563417,\n",
    " -2.2767594405286373,\n",
    " -2.2259959211773044,\n",
    " -2.1057438676516895,\n",
    " -2.1700646259714187,\n",
    " -2.1831336894573425,\n",
    " -2.1413198247961747,\n",
    " -2.0797055283334744,\n",
    " -2.114396610606683,\n",
    " -2.044794469841705,\n",
    " -2.0169945227695623,\n",
    " -2.0382171250659726,\n",
    " -2.041204985333014,\n",
    " -2.028375079209753,\n",
    " -2.016953359748753,\n",
    " -1.9915716418601348,\n",
    " -1.9893947225746655,\n",
    " -1.9560120034025483,\n",
    " -1.909560498487382,\n",
    " -1.9266246996723222,\n",
    " -1.9220736994481056,\n",
    " -1.8582521277268769,\n",
    " -1.8740364490479973,\n",
    " -1.845396816155414,\n",
    " -1.81173390276795,\n",
    " -1.7797476152682412,\n",
    " -1.7240020239742382,\n",
    " -1.79314857055742,\n",
    " -1.7672879522907694,\n",
    " -1.7393313224337754,\n",
    " -1.7670228649179036,\n",
    " -1.7266964439753172,\n",
    " -1.6849306030987286,\n",
    " -1.6760441769103611,\n",
    " -1.7039130381697962,\n",
    " -1.684582464631618,\n",
    " -1.704792529632981,\n",
    " -1.6527683956717412,\n",
    " -1.674225787054589,\n",
    " -1.6928908645630445,\n",
    " -1.679150676729069,\n",
    " -1.637299604698296,\n",
    " -1.6519922371612714,\n",
    " -1.6722524006172992,\n",
    " -1.6589879142166597,\n",
    " -1.6591141005342989,\n",
    " -1.657112004947561,\n",
    " -1.6775322552785008,\n",
    " -1.6401669932447915,\n",
    " -1.6010547919151432,\n",
    " -1.6341239254149227,\n",
    " -1.6231876159645657,\n",
    " -1.625942712367383,\n",
    " -1.6182997446529455,\n",
    " -1.6092859330053353,\n",
    " -1.59546889397707,\n",
    " -1.5994608202897478,\n",
    " -1.6179739270509939,\n",
    " -1.611836557960174,\n",
    " -1.5998101854078057,\n",
    " -1.6364849101785142,\n",
    " -1.57678809215084,\n",
    " -1.6224873870463403,\n",
    " -1.5732514424852821,\n",
    " -1.5744452437223717,\n",
    " -1.5772761016270056,\n",
    " -1.6050218628391741,\n",
    " -1.5891517553438375,\n",
    " -1.5476403795583065,\n",
    " -1.576161052152528,\n",
    " -1.581788919349072,\n",
    " -1.5670558893527442,\n",
    " -1.5596118799040988,\n",
    " -1.5658692345762537,\n",
    " -1.577645810385747])"
   ]
  },
  {
   "cell_type": "code",
   "execution_count": null,
   "metadata": {},
   "outputs": [],
   "source": []
  },
  {
   "cell_type": "code",
   "execution_count": null,
   "metadata": {},
   "outputs": [],
   "source": []
  }
 ],
 "metadata": {
  "kernelspec": {
   "display_name": "Python 3",
   "language": "python",
   "name": "python3"
  },
  "language_info": {
   "codemirror_mode": {
    "name": "ipython",
    "version": 3
   },
   "file_extension": ".py",
   "mimetype": "text/x-python",
   "name": "python",
   "nbconvert_exporter": "python",
   "pygments_lexer": "ipython3",
   "version": "3.7.6"
  }
 },
 "nbformat": 4,
 "nbformat_minor": 4
}
