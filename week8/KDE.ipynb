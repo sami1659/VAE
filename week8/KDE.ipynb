{
 "cells": [
  {
   "cell_type": "code",
   "execution_count": 1,
   "metadata": {},
   "outputs": [],
   "source": [
    "from __future__ import print_function\n",
    "import argparse\n",
    "import torch\n",
    "import torch.utils.data\n",
    "from torch import nn, optim\n",
    "from torch.nn import functional as F\n",
    "from torchvision import datasets, transforms\n",
    "from torchvision.utils import save_image\n",
    "import numpy as np\n",
    "import matplotlib.pyplot as plt \n",
    "import random\n",
    "from ipdb import set_trace as st"
   ]
  },
  {
   "cell_type": "code",
   "execution_count": 2,
   "metadata": {},
   "outputs": [],
   "source": [
    "from sklearn.neighbors import KernelDensity\n",
    "from scipy.stats import gaussian_kde\n",
    "from statsmodels.nonparametric.kde import KDEUnivariate\n",
    "from statsmodels.nonparametric.kernel_density import KDEMultivariate"
   ]
  },
  {
   "cell_type": "code",
   "execution_count": 3,
   "metadata": {},
   "outputs": [],
   "source": [
    "import sys\n",
    "sys.argv=['']\n",
    "del sys"
   ]
  },
  {
   "cell_type": "code",
   "execution_count": 4,
   "metadata": {},
   "outputs": [],
   "source": [
    "# construct the argument parser and parser the arguments\n",
    "parser = argparse.ArgumentParser(description='VAE Example')\n",
    "parser.add_argument('--batch-size', type=int, default=2048, metavar='N',\n",
    "                    help='input batch size for training (default: 128)')\n",
    "parser.add_argument('--epochs', type=int, default=20, metavar='N',\n",
    "                    help='number of epochs to train (default: 10)')\n",
    "parser.add_argument('--seed', type=int, default=1, metavar='S',\n",
    "                    help='random seed (default: 1)')\n",
    "parser.add_argument('--log-interval', type=int, default=10, metavar='N',\n",
    "                    help='how many batches to wait before logging training status')\n",
    "args = parser.parse_args()\n",
    "\n",
    "torch.manual_seed(args.seed)\n",
    "\n",
    "# we use CPU for computation\n",
    "device = torch.device(\"cpu\")\n",
    "\n",
    "#K = 1024\n",
    "K = 100"
   ]
  },
  {
   "cell_type": "code",
   "execution_count": 5,
   "metadata": {},
   "outputs": [],
   "source": [
    "def data_gen(BATCH_SIZE):\n",
    "    #8 gaussians\n",
    "    while 1:\n",
    "        theta = (np.pi/4) * torch.randint(0, 8, (BATCH_SIZE,)).float().to(device)\n",
    "        centers = torch.stack((torch.cos(theta), torch.sin(theta)), dim = -1)\n",
    "        noise = torch.randn_like(centers) * 0.1\n",
    "        yield centers + noise\n"
   ]
  },
  {
   "cell_type": "code",
   "execution_count": 6,
   "metadata": {},
   "outputs": [],
   "source": [
    "test_loader = train_loader = data_gen(args.batch_size)"
   ]
  },
  {
   "cell_type": "code",
   "execution_count": null,
   "metadata": {},
   "outputs": [],
   "source": []
  },
  {
   "cell_type": "code",
   "execution_count": 7,
   "metadata": {},
   "outputs": [],
   "source": [
    "class VAE(nn.Module):\n",
    "    def __init__(self):\n",
    "        super(VAE, self).__init__()\n",
    "        self.fc0 = nn.Linear(2, K)\n",
    "        self.fc1 = nn.Linear(K, K)\n",
    "        self.fc21 = nn.Linear(K, K)\n",
    "        self.fc22 = nn.Linear(K, K)\n",
    "        self.fc3 = nn.Linear(K, K)\n",
    "        self.fc4 = nn.Linear(K, K)\n",
    "        self.fc5 = nn.Linear(K, 2)\n",
    "\n",
    "    def encode(self, x):\n",
    "        h1 = F.selu(self.fc1(F.selu(self.fc0(x))))\n",
    "        return self.fc21(h1), self.fc22(h1)\n",
    "\n",
    "    def reparameterize(self, mu, logvar):\n",
    "        std = torch.exp(0.5*logvar)\n",
    "        eps = torch.randn_like(std)\n",
    "        return mu + eps*std\n",
    "\n",
    "    def decode(self, z):\n",
    "        return self.fc5(F.selu(self.fc4(F.selu(self.fc3(z)))))\n",
    "\n",
    "#    def decode(self, z):\n",
    "#        h = F.relu(self.fc3(z))\n",
    "#        mu = self.fc4(h)\n",
    "#        logvar = self.fc5(h)\n",
    "#        return mu, logvar\n",
    "\n",
    "    def forward(self, x):\n",
    "        mu, logvar = self.encode(x.view(-1, 2))\n",
    "        z = self.reparameterize(mu, logvar)\n",
    "     #   mu_x, logvar_x = self.decode(z)\n",
    "        return self.decode(z), mu, logvar\n",
    "\n"
   ]
  },
  {
   "cell_type": "code",
   "execution_count": null,
   "metadata": {},
   "outputs": [],
   "source": []
  },
  {
   "cell_type": "code",
   "execution_count": 8,
   "metadata": {},
   "outputs": [],
   "source": [
    "model = VAE().to(device)\n",
    "optimizer = optim.Adam(model.parameters(), lr=1e-3)\n",
    "scheduler = optim.lr_scheduler.ReduceLROnPlateau(optimizer, verbose = True, threshold = 1E-2, eps=1e-6)"
   ]
  },
  {
   "cell_type": "code",
   "execution_count": null,
   "metadata": {},
   "outputs": [],
   "source": []
  },
  {
   "cell_type": "code",
   "execution_count": 9,
   "metadata": {},
   "outputs": [],
   "source": [
    "# Reconstruction + KL divergence losses summed over all elements and batch\n",
    "def loss_function(recon_x, x, mu, logvar):\n",
    "    #BCE = F.binary_cross_entropy(recon_x, x.view(-1, 2), reduction='sum')\n",
    "    L2 = torch.mean((recon_x-x)**2)\n",
    "    # neg log likelihood of x under normal\n",
    "  #  loss_rec =  np.log(2.0 * np.pi) + logvar_x + (x - mu_x)**2 / (2*torch.exp(logvar_x))\n",
    " #   loss_rec = -torch.sum((-0.5 * np.log(2.0 * np.pi))+ (-0.5 * logvar_x)+ ((-0.5 / torch.exp(logvar_x)) * (0 - mu_x) ** 2.0))\n",
    "    \n",
    "    # see Appendix B from VAE paper:\n",
    "    # Kingma and Welling. Auto-Encoding Variational Bayes. ICLR, 2014\n",
    "    # https://arxiv.org/abs/1312.6114\n",
    "    # 0.5 * sum(1 + log(sigma^2) - mu^2 - sigma^2)\n",
    "    KLD = -0.5 * torch.mean(1 + logvar - mu.pow(2) - logvar.exp())\n",
    "    return L2 + KLD"
   ]
  },
  {
   "cell_type": "markdown",
   "metadata": {},
   "source": [
    "Apply KernelDensity Estimation on recon_batch"
   ]
  },
  {
   "cell_type": "code",
   "execution_count": 21,
   "metadata": {},
   "outputs": [],
   "source": [
    "def train(epoch):\n",
    "    model.train()\n",
    "    train_loss = 0\n",
    " #   train_likli = 0\n",
    "    for batch_idx, data in enumerate(train_loader):\n",
    "        if batch_idx > 100:\n",
    "            break #100 batches per epoch\n",
    "        data = data.to(device)\n",
    "        optimizer.zero_grad()\n",
    "        recon_batch, mu, logvar = model(data)\n",
    "        loss = loss_function(recon_batch, data, mu, logvar)\n",
    "        recon_batch = recon_batch.detach().numpy()\n",
    "        kde_skl = KernelDensity(kernel='gaussian', bandwidth=0.2)\n",
    "        kde_skl.fit(recon_batch)\n",
    "        # score_samples() returns the log-likelihood of the samples\n",
    "        log_pdf = kde_skl.score_samples(recon_batch)\n",
    "        log1 = np.exp(log_pdf)\n",
    "       \n",
    "        loss.backward()\n",
    "     #   liklihood.backward()\n",
    "        train_loss += loss.item()\n",
    "     #   train_likli += liklihood.item()\n",
    "        optimizer.step()\n",
    "    train_loss /= 100\n",
    "  #  train_likli /= 100\n",
    "    scheduler.step(train_loss)\n",
    "    print (\"Epoch  average reconstruction error   :\" ,epoch ,  train_loss )\n",
    "    print (\" likelihood  :\", log_pdf )\n",
    "    print (\" np.exp(likelihood ) :\", log1 )"
   ]
  },
  {
   "cell_type": "markdown",
   "metadata": {},
   "source": [
    "In this section, I considered the recon_batch as input KernelDensity Estimation, and since the printed results are cluttered, for clarifying the first number is Epoch, the second number is reconstruction error, the third array is log_pdf(likelihood), and the fourth array is np.exp(log_pdf)."
   ]
  },
  {
   "cell_type": "code",
   "execution_count": null,
   "metadata": {},
   "outputs": [
    {
     "name": "stdout",
     "output_type": "stream",
     "text": [
      "Epoch  average reconstruction error   : 1 0.07254372511059046\n",
      " likelihood  : [-1.24921539 -1.13480127 -1.30841906 ... -1.27610134 -1.25918616\n",
      " -1.51330457]\n",
      " np.exp(likelihood ) : [0.28672968 0.321486   0.27024696 ... 0.27912339 0.28388497 0.22018117]\n",
      "Epoch  average reconstruction error   : 2 0.05191675685346127\n",
      " likelihood  : [-1.20626456 -1.46026546 -1.19004023 ... -1.55398222 -1.12497209\n",
      " -1.11483718]\n",
      " np.exp(likelihood ) : [0.29931326 0.23217463 0.30420903 ... 0.21140444 0.32466153 0.32796867]\n",
      "Epoch  average reconstruction error   : 3 0.05115098807960749\n",
      " likelihood  : [-1.54269371 -1.74931236 -1.49469528 ... -1.42355209 -1.09907625\n",
      " -1.15401448]\n",
      " np.exp(likelihood ) : [0.2138044  0.17389348 0.22431695 ... 0.24085695 0.33317872 0.31536819]\n",
      "Epoch  average reconstruction error   : 4 0.05049796566367149\n",
      " likelihood  : [-2.74726021 -1.19419008 -1.10077137 ... -1.29784353 -2.15875771\n",
      " -1.3514893 ]\n",
      " np.exp(likelihood ) : [0.06410325 0.30294922 0.33261442 ... 0.27312013 0.11546848 0.25885446]\n",
      "Epoch  average reconstruction error   : 5 0.04993592854589224\n",
      " likelihood  : [-1.17125618 -0.97678127 -1.46226901 ... -1.02664478 -1.29514564\n",
      " -1.30297028]\n",
      " np.exp(likelihood ) : [0.30997731 0.37652107 0.23170993 ... 0.35820681 0.27385798 0.2717235 ]\n",
      "Epoch  average reconstruction error   : 6 0.04936912707984448\n",
      " likelihood  : [-1.19207594 -1.63940439 -1.13778819 ... -1.34213331 -1.29680092\n",
      " -1.09696005]\n",
      " np.exp(likelihood ) : [0.30359037 0.19409561 0.32052718 ... 0.26128766 0.27340504 0.33388453]\n",
      "Epoch  average reconstruction error   : 7 0.04855803322046995\n",
      " likelihood  : [-1.1986363  -1.44858385 -1.2243217  ... -0.98229808 -1.09252409\n",
      " -0.95666074]\n",
      " np.exp(likelihood ) : [0.30160523 0.23490271 0.29395703 ... 0.37444959 0.33536892 0.3841736 ]\n",
      "Epoch  average reconstruction error   : 8 0.0478200839087367\n",
      " likelihood  : [-1.10946054 -1.34571057 -1.3065877  ... -1.24162281 -1.53054721\n",
      " -1.17269844]\n",
      " np.exp(likelihood ) : [0.32973679 0.26035464 0.27074234 ... 0.28891498 0.21641721 0.30953056]\n",
      "Epoch  average reconstruction error   : 9 0.047131805047392845\n",
      " likelihood  : [-1.0731334  -1.13455159 -1.22382368 ... -1.09504169 -1.17726907\n",
      " -1.16566188]\n",
      " np.exp(likelihood ) : [0.34193542 0.32156628 0.29410346 ... 0.33452566 0.30811904 0.31171628]\n",
      "Epoch  average reconstruction error   : 10 0.04604793637990952\n",
      " likelihood  : [-1.14261744 -1.56214438 -1.3422461  ... -1.08751299 -1.1224171\n",
      " -1.28910303]\n",
      " np.exp(likelihood ) : [0.31898301 0.20968594 0.2612582  ... 0.33705371 0.3254921  0.2755178 ]\n",
      "Epoch  average reconstruction error   : 11 0.045125592648983\n",
      " likelihood  : [-1.26155505 -1.85847404 -1.16186523 ... -1.12939533 -1.37598146\n",
      " -0.96671303]\n",
      " np.exp(likelihood ) : [0.28321327 0.15591036 0.312902   ... 0.32322864 0.25259156 0.38033112]\n",
      "Epoch  average reconstruction error   : 12 0.04427528835833073\n",
      " likelihood  : [-0.97601868 -1.52265342 -1.30630377 ... -0.9428113  -1.09770089\n",
      " -1.0976925 ]\n",
      " np.exp(likelihood ) : [0.37680831 0.21813232 0.27081922 ... 0.3895312  0.33363727 0.33364007]\n",
      "Epoch  average reconstruction error   : 13 0.04348040621727705\n",
      " likelihood  : [-1.24630479 -0.94673496 -0.97415845 ... -1.462715   -1.04577337\n",
      " -1.203371  ]\n",
      " np.exp(likelihood ) : [0.28756545 0.38800581 0.37750991 ... 0.23160661 0.35141994 0.3001806 ]\n",
      "Epoch  average reconstruction error   : 14 0.042925772368907926\n",
      " likelihood  : [-0.97010487 -1.23988951 -1.04140583 ... -1.30533336 -1.05797718\n",
      " -0.94190965]\n",
      " np.exp(likelihood ) : [0.37904329 0.28941619 0.35295814 ... 0.27108215 0.34715734 0.38988259]\n",
      "Epoch  average reconstruction error   : 15 0.04251290000975132\n",
      " likelihood  : [-0.80072417 -1.12397093 -1.42224775 ... -1.06023943 -0.98845763\n",
      " -0.85941092]\n",
      " np.exp(likelihood ) : [0.44900369 0.32498673 0.24117132 ... 0.34637287 0.37215024 0.42341143]\n",
      "Epoch  average reconstruction error   : 16 0.04230822578072548\n",
      " likelihood  : [-1.141675   -0.92417689 -1.01196602 ... -0.77710714 -0.99570256\n",
      " -0.95277362]\n",
      " np.exp(likelihood ) : [0.31928377 0.39685794 0.36350362 ... 0.45973404 0.36946378 0.38566984]\n",
      "Epoch  average reconstruction error   : 17 0.04186711058020592\n",
      " likelihood  : [-0.93840981 -0.98752767 -1.1599766  ... -0.90250307 -0.92933911\n",
      " -0.91784263]\n",
      " np.exp(likelihood ) : [0.3912495  0.37249649 0.31349352 ... 0.40555326 0.39481455 0.39937972]\n",
      "Epoch  average reconstruction error   : 18 0.04179817724972963\n",
      " likelihood  : [-1.0904426  -1.62460726 -0.76941849 ... -0.98629803 -0.97845564\n",
      " -1.40772831]\n",
      " np.exp(likelihood ) : [0.33606772 0.19698903 0.46328239 ... 0.3729548  0.37589116 0.24469853]\n",
      "Epoch  average reconstruction error   : 19 0.041744815036654476\n",
      " likelihood  : [-1.25088122 -0.83319925 -0.87147889 ... -0.81590349 -0.98872352\n",
      " -1.00015166]\n",
      " np.exp(likelihood ) : [0.28625243 0.43465648 0.41833242 ... 0.44223959 0.3720513  0.36782365]\n",
      "Epoch  average reconstruction error   : 20 0.04158701758831739\n",
      " likelihood  : [-1.10961192 -1.0065269  -1.04503938 ... -0.87112413 -0.87165821\n",
      " -1.04566478]\n",
      " np.exp(likelihood ) : [0.32968688 0.36548615 0.35167797 ... 0.41848086 0.41825742 0.3514581 ]\n"
     ]
    },
    {
     "name": "stderr",
     "output_type": "stream",
     "text": [
      "__main__:22: MatplotlibDeprecationWarning: Adding an axes using the same arguments as a previous axes currently reuses the earlier instance.  In a future version, a new instance will always be created and returned.  Meanwhile, this warning can be suppressed, and the future behavior ensured, by passing a unique label to each axes instance.\n"
     ]
    },
    {
     "data": {
      "image/png": "[encoded data removed]",
      "text/plain": [
       "<Figure size 432x288 with 1 Axes>"
      ]
     },
     "metadata": {
      "needs_background": "light"
     },
     "output_type": "display_data"
    },
    {
     "name": "stdout",
     "output_type": "stream",
     "text": [
      "--Return--\n",
      "None\n",
      "> \u001b[1;32m<ipython-input-22-87c6826d76cb>\u001b[0m(25)\u001b[0;36m<module>\u001b[1;34m()\u001b[0m\n",
      "\u001b[1;32m     23 \u001b[1;33m    \u001b[0mplt\u001b[0m\u001b[1;33m.\u001b[0m\u001b[0mshow\u001b[0m\u001b[1;33m(\u001b[0m\u001b[1;33m)\u001b[0m\u001b[1;33m\u001b[0m\u001b[1;33m\u001b[0m\u001b[0m\n",
      "\u001b[0m\u001b[1;32m     24 \u001b[1;33m\u001b[1;33m\u001b[0m\u001b[0m\n",
      "\u001b[0m\u001b[1;32m---> 25 \u001b[1;33m    \u001b[0mst\u001b[0m\u001b[1;33m(\u001b[0m\u001b[1;33m)\u001b[0m\u001b[1;33m\u001b[0m\u001b[1;33m\u001b[0m\u001b[0m\n",
      "\u001b[0m\n"
     ]
    }
   ],
   "source": [
    "# k = 100\n",
    "if __name__ == \"__main__\":\n",
    "    for epoch in range(1, args.epochs + 1):\n",
    "        train(epoch)\n",
    "\n",
    "    gt = next(train_loader)\n",
    "        \n",
    "    with torch.no_grad():\n",
    "        sample = torch.randn(2048, K).to(device)\n",
    "        out = model.decode(sample).cpu().numpy()\n",
    "        recon = model(gt)[0].cpu().numpy()\n",
    "\n",
    "    rx,ry = recon[:,0], recon[:,1]\n",
    "        \n",
    "    gt = gt.cpu().numpy()\n",
    "    gx, gy = gt[:,0], gt[:,1]\n",
    "        \n",
    "    xs, ys = out[:,0], out[:,1]\n",
    "\n",
    "    plt.scatter(gx, gy, c = 'red', s=3)\n",
    "    plt.scatter(xs, ys, c = 'blue', s=3)\n",
    "    plt.axes().set_aspect('equal')\n",
    "    plt.show()\n",
    "    \n",
    "    st()"
   ]
  },
  {
   "cell_type": "markdown",
   "metadata": {},
   "source": [
    "Apply KeernelDensity Estimation on final training sample( out = model.decode(sample).cpu().numpy())"
   ]
  },
  {
   "cell_type": "code",
   "execution_count": 13,
   "metadata": {},
   "outputs": [],
   "source": [
    "def train(epoch):\n",
    "    model.train()\n",
    "    train_loss = 0\n",
    " #   train_likli = 0\n",
    "    for batch_idx, data in enumerate(train_loader):\n",
    "        if batch_idx > 100:\n",
    "            break #100 batches per epoch\n",
    "        data = data.to(device)\n",
    "        optimizer.zero_grad()\n",
    "        recon_batch, mu, logvar = model(data)\n",
    "        loss = loss_function(recon_batch, data, mu, logvar)\n",
    "    #    recon_batch = recon_batch.detach().numpy()\n",
    "        \n",
    "       \n",
    "        loss.backward()\n",
    "     #   liklihood.backward()\n",
    "        train_loss += loss.item()\n",
    "     #   train_likli += liklihood.item()\n",
    "        optimizer.step()\n",
    "    train_loss /= 100\n",
    "  #  train_likli /= 100\n",
    "    scheduler.step(train_loss)\n",
    "    print (\"Epoch  average reconstruction error  :\" ,epoch ,  train_loss)"
   ]
  },
  {
   "cell_type": "code",
   "execution_count": null,
   "metadata": {},
   "outputs": [
    {
     "name": "stdout",
     "output_type": "stream",
     "text": [
      "Epoch  average reconstruction error  : 1 0.0785090210288763\n",
      "Epoch  average reconstruction error  : 2 0.05342250294983387\n",
      "Epoch  average reconstruction error  : 3 0.05112326592206955\n",
      "Epoch  average reconstruction error  : 4 0.05048686489462852\n",
      "Epoch  average reconstruction error  : 5 0.04987835727632046\n",
      "Epoch  average reconstruction error  : 6 0.04928202982991934\n",
      "Epoch  average reconstruction error  : 7 0.04846401024609804\n",
      "Epoch  average reconstruction error  : 8 0.04775190629065037\n",
      "Epoch  average reconstruction error  : 9 0.04704788498580456\n",
      "Epoch  average reconstruction error  : 10 0.04603423252701759\n",
      "Epoch  average reconstruction error  : 11 0.04519266664981842\n",
      "Epoch  average reconstruction error  : 12 0.04430767185986042\n",
      "Epoch  average reconstruction error  : 13 0.043535117618739606\n",
      "Epoch  average reconstruction error  : 14 0.04295987837016582\n",
      "Epoch  average reconstruction error  : 15 0.0425436244904995\n",
      "Epoch  average reconstruction error  : 16 0.04229935616254807\n",
      "Epoch  average reconstruction error  : 17 0.041903010159730913\n",
      "Epoch  average reconstruction error  : 18 0.041773195825517175\n",
      "Epoch  average reconstruction error  : 19 0.04179010692983866\n",
      "Epoch  average reconstruction error  : 20 0.04162723675370216\n",
      "log likelihood:  [-1.15665376 -1.28001186 -1.60888916 ... -1.37271511 -1.33025333\n",
      " -1.80129159] [0.31453694 0.278034   0.20010978 ... 0.25341797 0.26441027 0.16508553]\n"
     ]
    },
    {
     "name": "stderr",
     "output_type": "stream",
     "text": [
      "__main__:28: MatplotlibDeprecationWarning: Adding an axes using the same arguments as a previous axes currently reuses the earlier instance.  In a future version, a new instance will always be created and returned.  Meanwhile, this warning can be suppressed, and the future behavior ensured, by passing a unique label to each axes instance.\n"
     ]
    },
    {
     "data": {
      "image/png": "[encoded data removed]",
      "text/plain": [
       "<Figure size 432x288 with 1 Axes>"
      ]
     },
     "metadata": {
      "needs_background": "light"
     },
     "output_type": "display_data"
    },
    {
     "name": "stdout",
     "output_type": "stream",
     "text": [
      "--Return--\n",
      "None\n",
      "> \u001b[1;32m<ipython-input-14-f5c89cc5a9bc>\u001b[0m(31)\u001b[0;36m<module>\u001b[1;34m()\u001b[0m\n",
      "\u001b[1;32m     29 \u001b[1;33m    \u001b[0mplt\u001b[0m\u001b[1;33m.\u001b[0m\u001b[0mshow\u001b[0m\u001b[1;33m(\u001b[0m\u001b[1;33m)\u001b[0m\u001b[1;33m\u001b[0m\u001b[1;33m\u001b[0m\u001b[0m\n",
      "\u001b[0m\u001b[1;32m     30 \u001b[1;33m\u001b[1;33m\u001b[0m\u001b[0m\n",
      "\u001b[0m\u001b[1;32m---> 31 \u001b[1;33m    \u001b[0mst\u001b[0m\u001b[1;33m(\u001b[0m\u001b[1;33m)\u001b[0m\u001b[1;33m\u001b[0m\u001b[1;33m\u001b[0m\u001b[0m\n",
      "\u001b[0m\n"
     ]
    }
   ],
   "source": [
    "# k = 100\n",
    "if __name__ == \"__main__\":\n",
    "    for epoch in range(1, args.epochs + 1):\n",
    "        train(epoch)\n",
    "\n",
    "    gt = next(train_loader)\n",
    "        \n",
    "    with torch.no_grad():\n",
    "        sample = torch.randn(2048, K).to(device)\n",
    "        out = model.decode(sample).cpu().numpy()\n",
    "        recon = model(gt)[0].cpu().numpy()\n",
    "\n",
    "    rx,ry = recon[:,0], recon[:,1]\n",
    "        \n",
    "    gt = gt.cpu().numpy()\n",
    "    gx, gy = gt[:,0], gt[:,1]\n",
    "        \n",
    "    xs, ys = out[:,0], out[:,1]\n",
    "    kde_skl = KernelDensity(kernel='gaussian', bandwidth=0.2)\n",
    "    kde_skl.fit(out)\n",
    "    # score_samples() returns the log-likelihood of the samples\n",
    "    log_pdf = kde_skl.score_samples(out)\n",
    "    log1 = np.exp(log_pdf)\n",
    "    print(\"log likelihood: \" ,log_pdf, log1)\n",
    "\n",
    "    plt.scatter(gx, gy, c = 'red', s=3)\n",
    "    plt.scatter(xs, ys, c = 'blue', s=3)\n",
    "    plt.axes().set_aspect('equal')\n",
    "    plt.show()\n",
    "    \n",
    "    st()"
   ]
  },
  {
   "cell_type": "code",
   "execution_count": null,
   "metadata": {},
   "outputs": [],
   "source": []
  },
  {
   "cell_type": "code",
   "execution_count": null,
   "metadata": {},
   "outputs": [],
   "source": []
  },
  {
   "cell_type": "code",
   "execution_count": null,
   "metadata": {},
   "outputs": [],
   "source": []
  },
  {
   "cell_type": "code",
   "execution_count": null,
   "metadata": {},
   "outputs": [],
   "source": []
  },
  {
   "cell_type": "code",
   "execution_count": null,
   "metadata": {},
   "outputs": [],
   "source": []
  }
 ],
 "metadata": {
  "kernelspec": {
   "display_name": "Python 3",
   "language": "python",
   "name": "python3"
  },
  "language_info": {
   "codemirror_mode": {
    "name": "ipython",
    "version": 3
   },
   "file_extension": ".py",
   "mimetype": "text/x-python",
   "name": "python",
   "nbconvert_exporter": "python",
   "pygments_lexer": "ipython3",
   "version": "3.7.6"
  }
 },
 "nbformat": 4,
 "nbformat_minor": 4
}
